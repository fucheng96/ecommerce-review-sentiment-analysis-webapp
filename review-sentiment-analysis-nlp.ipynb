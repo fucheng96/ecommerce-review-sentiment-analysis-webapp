{
 "cells": [
  {
   "cell_type": "markdown",
   "id": "8f6c047a",
   "metadata": {},
   "source": [
    "# Project Overview"
   ]
  },
  {
   "cell_type": "markdown",
   "id": "c6477c79",
   "metadata": {},
   "source": [
    "**Objective**<br>\n",
    "The main objective of this project is to perform Sentiment Analysis on customer reviews on the Brazilian E-Commerce platform [Olist](https://olist.com/pt-br/) using Natural Language Processing ('NLP'). This is crucial for sellers to understand their customers' perception towards their products and services, to drive customer engagement and identify areas for improvement in their business.<br><br>\n",
    "**Data**<br>\n",
    "The datasets used here are **[The Brazilian E-Commerce Public Dataset by Olist](https://www.kaggle.com/olistbr/brazilian-ecommerce)**. The dataset contains information of 100k orders from 2016 to 2018 such as order status, price, payment and freight performance to customer location, product attributes, etc.<br><br>\n",
    "The focal point here would be the **reviews written by the customers** in Brazilian (Portugese). Once the customer receives the product, or when the estimated delivery date is due (whether customer receives the product or not), the customer gets a satisfaction survey by email to describe the purchase experience and write down some comments."
   ]
  },
  {
   "cell_type": "markdown",
   "id": "a42f61ea",
   "metadata": {},
   "source": [
    "# Problem Statement & Strategy"
   ]
  },
  {
   "cell_type": "markdown",
   "id": "91b772be",
   "metadata": {},
   "source": [
    "**Problem Statement**<br>\n",
    "What is the sentiment of the review or comment provided by the customers? Is it positive or negative?<br>\n",
    "Olist and the sellers would need to go through each and every review to determine if they are positive or negative, and monitor any negative responses to help identify issues such as late deliveries, poor quality and fake products.<br><br>\n",
    "**Strategy**<br>\n",
    "To use machine learning (\"ML\") to **classify** the sentiment of the reviews. The expected outcome would be given a customer's review, it is either a positive review (Sentimento Positivo) or a negative review (Sentimento Negativo).<br><br>\n",
    "Since this is a classification problem, the target variable - an indicator of whether it is a positive review or not is required. Unfortunately, the review dataset provided by Olist is not labelled. Due to time constraint, the reviews were not manually assessed to label them, and therefore it is assumed that the review is positive if the review score is 4 or 5; and the review is negative if the review score is 1, 2 or 3. Nevertheless, this assumption is reasonable as customers would tend to write positive review given a high score (4 or 5).<br><br>\n",
    "In terms of explanatory variables, there are two types of important features to consider during feature extraction:\n",
    "- Features related to the review message as a whole e.g., word count, whether entire review is capitalized etc.\n",
    "- Features extracted from the words used, using techniques such as tokenization and vectorization (bag of words & TF-IDF) which will be explained in greater details below during data preparation.<br>\n",
    "\n",
    "Although the output of this project is a web app that classifies the sentiment of the input review message in real-time, the Extract, Transform & Load (\"ETL\") and ML pipelines can be applied on Olist platform as a value-adding service to the sellers compared to other Brazilian E-Commerce platforms such as Mercado Livre and Americanas.  "
   ]
  },
  {
   "cell_type": "markdown",
   "id": "1a2985da",
   "metadata": {},
   "source": [
    "# Metrics"
   ]
  },
  {
   "cell_type": "markdown",
   "id": "15154d55",
   "metadata": {},
   "source": [
    "There are 4 main types of metrics to evaluate the classification models:\n",
    "- Accuracy<br>\n",
    "It measures the proportion of predictions made that are correct and serves as the base measure. The formula is (TP + TN)/(TP + TN + FP + FN).<br>\n",
    "- Precision<br>\n",
    "It measures the proportion of positive predictions made that are correct. The formula is TP/(TP + FP).<br>\n",
    "- Recall<br>\n",
    "It measures the proportion of positive cases that are predicted correctly. The formula is TP(TP + FN).<br>\n",
    "- F1-Score<br>\n",
    "It provides the \"harmonic mean\" that combines both Precision and Recall measures in a balanced way. It requires both measures to increase to result in a high F1-score. The formula is (2 * Recall * Precision)/(Recall + Precision)<br>\n",
    "\n",
    "Note that \"Correct\" predictions here refer to True Positives (\"TP\") and True Negatives (\"TN\"). TP refer to messages with Positive Sentiment being correctly classified as Positive Sentiment, and likewise for TN in which review messages with Negative Sentiments being correctly classified as Negative Sentiment. False Positives (\"FP\") refer to messages with Negative Sentiments that were falsely classified as Positive Sentiment by the model, and likewise for False Negatives (\"FN\") in which messages with Positive Sentiment were falsely classified as Negative Sentiment. "
   ]
  },
  {
   "cell_type": "markdown",
   "id": "8f082303",
   "metadata": {},
   "source": [
    "# Import Libraries"
   ]
  },
  {
   "cell_type": "code",
   "execution_count": 1,
   "id": "94ff15e9",
   "metadata": {},
   "outputs": [
    {
     "name": "stderr",
     "output_type": "stream",
     "text": [
      "[nltk_data] Downloading package punkt to\n",
      "[nltk_data]     C:\\Users\\fucheng.liew\\AppData\\Roaming\\nltk_data...\n",
      "[nltk_data]   Package punkt is already up-to-date!\n",
      "[nltk_data] Downloading package wordnet to\n",
      "[nltk_data]     C:\\Users\\fucheng.liew\\AppData\\Roaming\\nltk_data...\n",
      "[nltk_data]   Package wordnet is already up-to-date!\n",
      "[nltk_data] Downloading package stopwords to\n",
      "[nltk_data]     C:\\Users\\fucheng.liew\\AppData\\Roaming\\nltk_data...\n",
      "[nltk_data]   Package stopwords is already up-to-date!\n",
      "[nltk_data] Downloading package averaged_perceptron_tagger to\n",
      "[nltk_data]     C:\\Users\\fucheng.liew\\AppData\\Roaming\\nltk_data...\n",
      "[nltk_data]   Package averaged_perceptron_tagger is already up-to-\n",
      "[nltk_data]       date!\n"
     ]
    }
   ],
   "source": [
    "# Import essential libraries\n",
    "import os\n",
    "import time\n",
    "import json\n",
    "import random\n",
    "import pandas as pd\n",
    "import numpy as np\n",
    "import re\n",
    "import pickle\n",
    "from datetime import datetime\n",
    "\n",
    "# For visualization\n",
    "import seaborn as sns\n",
    "import matplotlib.pyplot as plt\n",
    "%matplotlib inline\n",
    "\n",
    "# Import nltk libraries\n",
    "import nltk\n",
    "from nltk.corpus import stopwords\n",
    "from nltk.tokenize import word_tokenize\n",
    "from nltk.stem import WordNetLemmatizer\n",
    "nltk.download(['punkt', 'wordnet', 'stopwords', 'averaged_perceptron_tagger'])\n",
    "\n",
    "# Import SQLite libraries\n",
    "from sqlalchemy import create_engine\n",
    "\n",
    "# Import sklearn libraries\n",
    "from sklearn.pipeline import Pipeline, FeatureUnion\n",
    "from sklearn.feature_extraction.text import CountVectorizer, TfidfTransformer\n",
    "from sklearn.multioutput import MultiOutputClassifier\n",
    "from sklearn.model_selection import train_test_split\n",
    "from sklearn.linear_model import LogisticRegression\n",
    "from sklearn.ensemble import RandomForestClassifier, GradientBoostingClassifier, AdaBoostClassifier, StackingClassifier\n",
    "from sklearn.metrics import confusion_matrix, classification_report\n",
    "from sklearn.model_selection import GridSearchCV\n",
    "from sklearn.base import BaseEstimator, TransformerMixin\n",
    "from sklearn.neural_network import MLPClassifier"
   ]
  },
  {
   "cell_type": "markdown",
   "id": "ecb5d17d",
   "metadata": {},
   "source": [
    "# Settings"
   ]
  },
  {
   "cell_type": "code",
   "execution_count": 2,
   "id": "70a1e149",
   "metadata": {},
   "outputs": [
    {
     "data": {
      "text/html": [
       "<style>.container { width:100% !important; }</style>"
      ],
      "text/plain": [
       "<IPython.core.display.HTML object>"
      ]
     },
     "metadata": {},
     "output_type": "display_data"
    }
   ],
   "source": [
    "# To view all generated results\n",
    "pd.set_option('display.max_rows', 100)\n",
    "pd.set_option('display.max_columns', 100)\n",
    "\n",
    "# Widen the Jupyter Notebook as much as possible\n",
    "from IPython.core.display import display, HTML\n",
    "display(HTML('<style>.container { width:100% !important; }</style>'))"
   ]
  },
  {
   "cell_type": "markdown",
   "id": "8382816d",
   "metadata": {},
   "source": [
    "# Import Data"
   ]
  },
  {
   "cell_type": "code",
   "execution_count": 3,
   "id": "071e4383",
   "metadata": {},
   "outputs": [
    {
     "data": {
      "text/html": [
       "<div>\n",
       "<style scoped>\n",
       "    .dataframe tbody tr th:only-of-type {\n",
       "        vertical-align: middle;\n",
       "    }\n",
       "\n",
       "    .dataframe tbody tr th {\n",
       "        vertical-align: top;\n",
       "    }\n",
       "\n",
       "    .dataframe thead th {\n",
       "        text-align: right;\n",
       "    }\n",
       "</style>\n",
       "<table border=\"1\" class=\"dataframe\">\n",
       "  <thead>\n",
       "    <tr style=\"text-align: right;\">\n",
       "      <th></th>\n",
       "      <th>review_id</th>\n",
       "      <th>order_id</th>\n",
       "      <th>review_score</th>\n",
       "      <th>review_comment_title</th>\n",
       "      <th>review_comment_message</th>\n",
       "      <th>review_creation_date</th>\n",
       "      <th>review_answer_timestamp</th>\n",
       "    </tr>\n",
       "  </thead>\n",
       "  <tbody>\n",
       "    <tr>\n",
       "      <th>0</th>\n",
       "      <td>7bc2406110b926393aa56f80a40eba40</td>\n",
       "      <td>73fc7af87114b39712e6da79b0a377eb</td>\n",
       "      <td>4</td>\n",
       "      <td>NaN</td>\n",
       "      <td>NaN</td>\n",
       "      <td>2018-01-18 00:00:00</td>\n",
       "      <td>2018-01-18 21:46:59</td>\n",
       "    </tr>\n",
       "    <tr>\n",
       "      <th>1</th>\n",
       "      <td>80e641a11e56f04c1ad469d5645fdfde</td>\n",
       "      <td>a548910a1c6147796b98fdf73dbeba33</td>\n",
       "      <td>5</td>\n",
       "      <td>NaN</td>\n",
       "      <td>NaN</td>\n",
       "      <td>2018-03-10 00:00:00</td>\n",
       "      <td>2018-03-11 03:05:13</td>\n",
       "    </tr>\n",
       "    <tr>\n",
       "      <th>2</th>\n",
       "      <td>228ce5500dc1d8e020d8d1322874b6f0</td>\n",
       "      <td>f9e4b658b201a9f2ecdecbb34bed034b</td>\n",
       "      <td>5</td>\n",
       "      <td>NaN</td>\n",
       "      <td>NaN</td>\n",
       "      <td>2018-02-17 00:00:00</td>\n",
       "      <td>2018-02-18 14:36:24</td>\n",
       "    </tr>\n",
       "    <tr>\n",
       "      <th>3</th>\n",
       "      <td>e64fb393e7b32834bb789ff8bb30750e</td>\n",
       "      <td>658677c97b385a9be170737859d3511b</td>\n",
       "      <td>5</td>\n",
       "      <td>NaN</td>\n",
       "      <td>Recebi bem antes do prazo estipulado.</td>\n",
       "      <td>2017-04-21 00:00:00</td>\n",
       "      <td>2017-04-21 22:02:06</td>\n",
       "    </tr>\n",
       "    <tr>\n",
       "      <th>4</th>\n",
       "      <td>f7c4243c7fe1938f181bec41a392bdeb</td>\n",
       "      <td>8e6bfb81e283fa7e4f11123a3fb894f1</td>\n",
       "      <td>5</td>\n",
       "      <td>NaN</td>\n",
       "      <td>Parabéns lojas lannister adorei comprar pela I...</td>\n",
       "      <td>2018-03-01 00:00:00</td>\n",
       "      <td>2018-03-02 10:26:53</td>\n",
       "    </tr>\n",
       "  </tbody>\n",
       "</table>\n",
       "</div>"
      ],
      "text/plain": [
       "                          review_id                          order_id  \\\n",
       "0  7bc2406110b926393aa56f80a40eba40  73fc7af87114b39712e6da79b0a377eb   \n",
       "1  80e641a11e56f04c1ad469d5645fdfde  a548910a1c6147796b98fdf73dbeba33   \n",
       "2  228ce5500dc1d8e020d8d1322874b6f0  f9e4b658b201a9f2ecdecbb34bed034b   \n",
       "3  e64fb393e7b32834bb789ff8bb30750e  658677c97b385a9be170737859d3511b   \n",
       "4  f7c4243c7fe1938f181bec41a392bdeb  8e6bfb81e283fa7e4f11123a3fb894f1   \n",
       "\n",
       "   review_score review_comment_title  \\\n",
       "0             4                  NaN   \n",
       "1             5                  NaN   \n",
       "2             5                  NaN   \n",
       "3             5                  NaN   \n",
       "4             5                  NaN   \n",
       "\n",
       "                              review_comment_message review_creation_date  \\\n",
       "0                                                NaN  2018-01-18 00:00:00   \n",
       "1                                                NaN  2018-03-10 00:00:00   \n",
       "2                                                NaN  2018-02-17 00:00:00   \n",
       "3              Recebi bem antes do prazo estipulado.  2017-04-21 00:00:00   \n",
       "4  Parabéns lojas lannister adorei comprar pela I...  2018-03-01 00:00:00   \n",
       "\n",
       "  review_answer_timestamp  \n",
       "0     2018-01-18 21:46:59  \n",
       "1     2018-03-11 03:05:13  \n",
       "2     2018-02-18 14:36:24  \n",
       "3     2017-04-21 22:02:06  \n",
       "4     2018-03-02 10:26:53  "
      ]
     },
     "execution_count": 3,
     "metadata": {},
     "output_type": "execute_result"
    }
   ],
   "source": [
    "# Setting the directories\n",
    "cd = os.getcwd()\n",
    "data_dir = cd + '\\\\data'\n",
    "\n",
    "# Import data\n",
    "review_df = pd.read_csv(data_dir + '\\\\olist_order_reviews_dataset.csv')\n",
    "review_df.head()"
   ]
  },
  {
   "cell_type": "code",
   "execution_count": 4,
   "id": "bd601e60",
   "metadata": {},
   "outputs": [
    {
     "name": "stdout",
     "output_type": "stream",
     "text": [
      "<class 'pandas.core.frame.DataFrame'>\n",
      "RangeIndex: 99224 entries, 0 to 99223\n",
      "Data columns (total 7 columns):\n",
      " #   Column                   Non-Null Count  Dtype \n",
      "---  ------                   --------------  ----- \n",
      " 0   review_id                99224 non-null  object\n",
      " 1   order_id                 99224 non-null  object\n",
      " 2   review_score             99224 non-null  int64 \n",
      " 3   review_comment_title     11568 non-null  object\n",
      " 4   review_comment_message   40977 non-null  object\n",
      " 5   review_creation_date     99224 non-null  object\n",
      " 6   review_answer_timestamp  99224 non-null  object\n",
      "dtypes: int64(1), object(6)\n",
      "memory usage: 5.3+ MB\n"
     ]
    }
   ],
   "source": [
    "# View dataset info\n",
    "review_df.info()"
   ]
  },
  {
   "cell_type": "code",
   "execution_count": 5,
   "id": "b0647d46",
   "metadata": {},
   "outputs": [
    {
     "data": {
      "text/plain": [
       "review_id                      0\n",
       "order_id                       0\n",
       "review_score                   0\n",
       "review_comment_title       87656\n",
       "review_comment_message     58247\n",
       "review_creation_date           0\n",
       "review_answer_timestamp        0\n",
       "dtype: int64"
      ]
     },
     "execution_count": 5,
     "metadata": {},
     "output_type": "execute_result"
    }
   ],
   "source": [
    "# View any missing values\n",
    "review_df.isnull().sum()\n",
    "\n",
    "# There are missing review or comment messages\n",
    "# These rows with missing reviews need to be removed as no features can be extracted"
   ]
  },
  {
   "cell_type": "code",
   "execution_count": 6,
   "id": "ba8bb8d6",
   "metadata": {},
   "outputs": [
    {
     "name": "stdout",
     "output_type": "stream",
     "text": [
      "                           order_id                       customer_id  \\\n",
      "0  e481f51cbdc54678b7cc49136f2d6af7  9ef432eb6251297304e76186b10a928d   \n",
      "1  53cdb2fc8bc7dce0b6741e2150273451  b0830fb4747a6c6d20dea0b8c802d7ef   \n",
      "2  47770eb9100c2d0c44946d9cf07ec65d  41ce2a54c0b03bf3443c3d931a367089   \n",
      "3  949d5b44dbf5de918fe9c16f97b45f8a  f88197465ea7920adcdbec7375364d82   \n",
      "4  ad21c59c0840e6cb83a9ceb5573f8159  8ab97904e6daea8866dbdbc4fb7aad2c   \n",
      "\n",
      "  order_status order_purchase_timestamp    order_approved_at  \\\n",
      "0    delivered      2017-10-02 10:56:33  2017-10-02 11:07:15   \n",
      "1    delivered      2018-07-24 20:41:37  2018-07-26 03:24:27   \n",
      "2    delivered      2018-08-08 08:38:49  2018-08-08 08:55:23   \n",
      "3    delivered      2017-11-18 19:28:06  2017-11-18 19:45:59   \n",
      "4    delivered      2018-02-13 21:18:39  2018-02-13 22:20:29   \n",
      "\n",
      "  order_delivered_carrier_date order_delivered_customer_date  \\\n",
      "0          2017-10-04 19:55:00           2017-10-10 21:25:13   \n",
      "1          2018-07-26 14:31:00           2018-08-07 15:27:45   \n",
      "2          2018-08-08 13:50:00           2018-08-17 18:06:29   \n",
      "3          2017-11-22 13:39:59           2017-12-02 00:28:42   \n",
      "4          2018-02-14 19:46:34           2018-02-16 18:17:02   \n",
      "\n",
      "  order_estimated_delivery_date  \n",
      "0           2017-10-18 00:00:00  \n",
      "1           2018-08-13 00:00:00  \n",
      "2           2018-09-04 00:00:00  \n",
      "3           2017-12-15 00:00:00  \n",
      "4           2018-02-26 00:00:00  \n",
      "\n",
      "\n",
      "<class 'pandas.core.frame.DataFrame'>\n",
      "RangeIndex: 99441 entries, 0 to 99440\n",
      "Data columns (total 8 columns):\n",
      " #   Column                         Non-Null Count  Dtype \n",
      "---  ------                         --------------  ----- \n",
      " 0   order_id                       99441 non-null  object\n",
      " 1   customer_id                    99441 non-null  object\n",
      " 2   order_status                   99441 non-null  object\n",
      " 3   order_purchase_timestamp       99441 non-null  object\n",
      " 4   order_approved_at              99281 non-null  object\n",
      " 5   order_delivered_carrier_date   97658 non-null  object\n",
      " 6   order_delivered_customer_date  96476 non-null  object\n",
      " 7   order_estimated_delivery_date  99441 non-null  object\n",
      "dtypes: object(8)\n",
      "memory usage: 6.1+ MB\n",
      "None\n",
      "\n",
      "\n",
      "order_id                            0\n",
      "customer_id                         0\n",
      "order_status                        0\n",
      "order_purchase_timestamp            0\n",
      "order_approved_at                 160\n",
      "order_delivered_carrier_date     1783\n",
      "order_delivered_customer_date    2965\n",
      "order_estimated_delivery_date       0\n",
      "dtype: int64\n",
      "\n",
      "\n",
      "                           order_id  order_item_id  \\\n",
      "0  00010242fe8c5a6d1ba2dd792cb16214              1   \n",
      "1  00018f77f2f0320c557190d7a144bdd3              1   \n",
      "2  000229ec398224ef6ca0657da4fc703e              1   \n",
      "3  00024acbcdf0a6daa1e931b038114c75              1   \n",
      "4  00042b26cf59d7ce69dfabb4e55b4fd9              1   \n",
      "\n",
      "                         product_id                         seller_id  \\\n",
      "0  4244733e06e7ecb4970a6e2683c13e61  48436dade18ac8b2bce089ec2a041202   \n",
      "1  e5f2d52b802189ee658865ca93d83a8f  dd7ddc04e1b6c2c614352b383efe2d36   \n",
      "2  c777355d18b72b67abbeef9df44fd0fd  5b51032eddd242adc84c38acab88f23d   \n",
      "3  7634da152a4610f1595efa32f14722fc  9d7a1d34a5052409006425275ba1c2b4   \n",
      "4  ac6c3623068f30de03045865e4e10089  df560393f3a51e74553ab94004ba5c87   \n",
      "\n",
      "   shipping_limit_date   price  freight_value  \n",
      "0  2017-09-19 09:45:35   58.90          13.29  \n",
      "1  2017-05-03 11:05:13  239.90          19.93  \n",
      "2  2018-01-18 14:48:30  199.00          17.87  \n",
      "3  2018-08-15 10:10:18   12.99          12.79  \n",
      "4  2017-02-13 13:57:51  199.90          18.14  \n",
      "\n",
      "\n",
      "<class 'pandas.core.frame.DataFrame'>\n",
      "RangeIndex: 112650 entries, 0 to 112649\n",
      "Data columns (total 7 columns):\n",
      " #   Column               Non-Null Count   Dtype  \n",
      "---  ------               --------------   -----  \n",
      " 0   order_id             112650 non-null  object \n",
      " 1   order_item_id        112650 non-null  int64  \n",
      " 2   product_id           112650 non-null  object \n",
      " 3   seller_id            112650 non-null  object \n",
      " 4   shipping_limit_date  112650 non-null  object \n",
      " 5   price                112650 non-null  float64\n",
      " 6   freight_value        112650 non-null  float64\n",
      "dtypes: float64(2), int64(1), object(4)\n",
      "memory usage: 6.0+ MB\n",
      "None\n",
      "\n",
      "\n",
      "order_id               0\n",
      "order_item_id          0\n",
      "product_id             0\n",
      "seller_id              0\n",
      "shipping_limit_date    0\n",
      "price                  0\n",
      "freight_value          0\n",
      "dtype: int64\n",
      "\n",
      "\n",
      "                         product_id  product_category_name  \\\n",
      "0  1e9e8ef04dbcff4541ed26657ea517e5             perfumaria   \n",
      "1  3aa071139cb16b67ca9e5dea641aaa2f                  artes   \n",
      "2  96bd76ec8810374ed1b65e291975717f          esporte_lazer   \n",
      "3  cef67bcfe19066a932b7673e239eb23d                  bebes   \n",
      "4  9dc1a7de274444849c219cff195d0b71  utilidades_domesticas   \n",
      "\n",
      "   product_name_lenght  product_description_lenght  product_photos_qty  \\\n",
      "0                 40.0                       287.0                 1.0   \n",
      "1                 44.0                       276.0                 1.0   \n",
      "2                 46.0                       250.0                 1.0   \n",
      "3                 27.0                       261.0                 1.0   \n",
      "4                 37.0                       402.0                 4.0   \n",
      "\n",
      "   product_weight_g  product_length_cm  product_height_cm  product_width_cm  \n",
      "0             225.0               16.0               10.0              14.0  \n",
      "1            1000.0               30.0               18.0              20.0  \n",
      "2             154.0               18.0                9.0              15.0  \n",
      "3             371.0               26.0                4.0              26.0  \n",
      "4             625.0               20.0               17.0              13.0  \n",
      "\n",
      "\n",
      "<class 'pandas.core.frame.DataFrame'>\n",
      "RangeIndex: 32951 entries, 0 to 32950\n",
      "Data columns (total 9 columns):\n",
      " #   Column                      Non-Null Count  Dtype  \n",
      "---  ------                      --------------  -----  \n",
      " 0   product_id                  32951 non-null  object \n",
      " 1   product_category_name       32341 non-null  object \n",
      " 2   product_name_lenght         32341 non-null  float64\n",
      " 3   product_description_lenght  32341 non-null  float64\n",
      " 4   product_photos_qty          32341 non-null  float64\n",
      " 5   product_weight_g            32949 non-null  float64\n",
      " 6   product_length_cm           32949 non-null  float64\n",
      " 7   product_height_cm           32949 non-null  float64\n",
      " 8   product_width_cm            32949 non-null  float64\n",
      "dtypes: float64(7), object(2)\n",
      "memory usage: 2.3+ MB\n",
      "None\n",
      "\n",
      "\n",
      "product_id                      0\n",
      "product_category_name         610\n",
      "product_name_lenght           610\n",
      "product_description_lenght    610\n",
      "product_photos_qty            610\n",
      "product_weight_g                2\n",
      "product_length_cm               2\n",
      "product_height_cm               2\n",
      "product_width_cm                2\n",
      "dtype: int64\n",
      "\n",
      "\n",
      "    product_category_name product_category_name_english\n",
      "0            beleza_saude                 health_beauty\n",
      "1  informatica_acessorios         computers_accessories\n",
      "2              automotivo                          auto\n",
      "3         cama_mesa_banho                bed_bath_table\n",
      "4        moveis_decoracao               furniture_decor\n",
      "\n",
      "\n",
      "<class 'pandas.core.frame.DataFrame'>\n",
      "RangeIndex: 71 entries, 0 to 70\n",
      "Data columns (total 2 columns):\n",
      " #   Column                         Non-Null Count  Dtype \n",
      "---  ------                         --------------  ----- \n",
      " 0   product_category_name          71 non-null     object\n",
      " 1   product_category_name_english  71 non-null     object\n",
      "dtypes: object(2)\n",
      "memory usage: 1.2+ KB\n",
      "None\n",
      "\n",
      "\n",
      "product_category_name            0\n",
      "product_category_name_english    0\n",
      "dtype: int64\n",
      "\n",
      "\n",
      "                        customer_id                customer_unique_id  \\\n",
      "0  06b8999e2fba1a1fbc88172c00ba8bc7  861eff4711a542e4b93843c6dd7febb0   \n",
      "1  18955e83d337fd6b2def6b18a428ac77  290c77bc529b7ac935b93aa66c333dc3   \n",
      "2  4e7b3e00288586ebd08712fdd0374a03  060e732b5b29e8181a18229c7b0b2b5e   \n",
      "3  b2b6027bc5c5109e529d4dc6358b12c3  259dac757896d24d7702b9acbbff3f3c   \n",
      "4  4f2d8ab171c80ec8364f7c12e35b23ad  345ecd01c38d18a9036ed96c73b8d066   \n",
      "\n",
      "   customer_zip_code_prefix          customer_city customer_state  \n",
      "0                     14409                 franca             SP  \n",
      "1                      9790  sao bernardo do campo             SP  \n",
      "2                      1151              sao paulo             SP  \n",
      "3                      8775        mogi das cruzes             SP  \n",
      "4                     13056               campinas             SP  \n",
      "\n",
      "\n",
      "<class 'pandas.core.frame.DataFrame'>\n",
      "RangeIndex: 99441 entries, 0 to 99440\n",
      "Data columns (total 5 columns):\n",
      " #   Column                    Non-Null Count  Dtype \n",
      "---  ------                    --------------  ----- \n",
      " 0   customer_id               99441 non-null  object\n",
      " 1   customer_unique_id        99441 non-null  object\n",
      " 2   customer_zip_code_prefix  99441 non-null  int64 \n",
      " 3   customer_city             99441 non-null  object\n",
      " 4   customer_state            99441 non-null  object\n",
      "dtypes: int64(1), object(4)\n",
      "memory usage: 3.8+ MB\n",
      "None\n",
      "\n",
      "\n",
      "customer_id                 0\n",
      "customer_unique_id          0\n",
      "customer_zip_code_prefix    0\n",
      "customer_city               0\n",
      "customer_state              0\n",
      "dtype: int64\n",
      "\n",
      "\n"
     ]
    }
   ],
   "source": [
    "# Import other key features such as product category and location to discover more about the reviews\n",
    "order_df = pd.read_csv(data_dir + '\\\\olist_orders_dataset.csv') # Includes data on all the orders made\n",
    "order_item_df = pd.read_csv(data_dir + '\\\\olist_order_items_dataset.csv') # Includes data about the items purchased within each order\n",
    "prod_df = pd.read_csv(data_dir + '\\\\olist_products_dataset.csv') # Includes data about the products sold by Olist\n",
    "prod_trans_df = pd.read_csv(data_dir + '\\\\product_category_name_translation.csv') # Translates the productcategoryname to english.\n",
    "cust_df = pd.read_csv(data_dir + '\\\\olist_customers_dataset.csv') # Includes data about the customer and its location\n",
    "\n",
    "# Show samples, dataset info and missing values info\n",
    "df_list = [order_df, order_item_df, prod_df, prod_trans_df, cust_df]\n",
    "for df_ in df_list:\n",
    "    # Show samples\n",
    "    print(df_.head())\n",
    "    print('\\n')\n",
    "    \n",
    "    # Show dataset info\n",
    "    print(df_.info())\n",
    "    print('\\n')\n",
    "    \n",
    "    # Show missing values info\n",
    "    print(df_.isnull().sum())\n",
    "    print('\\n')"
   ]
  },
  {
   "cell_type": "markdown",
   "id": "6c6738c9",
   "metadata": {},
   "source": [
    "# Data Cleaning"
   ]
  },
  {
   "cell_type": "code",
   "execution_count": 7,
   "id": "62aeb06b",
   "metadata": {},
   "outputs": [
    {
     "data": {
      "text/plain": [
       "40977"
      ]
     },
     "execution_count": 7,
     "metadata": {},
     "output_type": "execute_result"
    }
   ],
   "source": [
    "# Keep key columns\n",
    "df = review_df[['review_id', 'order_id', 'review_score', 'review_comment_title', 'review_comment_message']]\n",
    "\n",
    "# Remove missing reviews from review dataset\n",
    "df = df[~df['review_comment_message'].isnull()]\n",
    "len(df) # Around 41k reviews remain"
   ]
  },
  {
   "cell_type": "code",
   "execution_count": 8,
   "id": "b4ff6257",
   "metadata": {},
   "outputs": [
    {
     "name": "stdout",
     "output_type": "stream",
     "text": [
      "No. of duplicates based on all columns:0\n",
      "No. of duplicates based on all columns:309\n"
     ]
    }
   ],
   "source": [
    "# Check for any duplicates\n",
    "print(f'No. of duplicates based on all columns:{len(df[df.duplicated()])}')\n",
    "                                                \n",
    "# Check for any duplicates based on review_id\n",
    "print(f'No. of duplicates based on all columns:{len(df[df.duplicated(subset=\"review_id\")])}')"
   ]
  },
  {
   "cell_type": "code",
   "execution_count": 9,
   "id": "dad8ccdc",
   "metadata": {},
   "outputs": [
    {
     "data": {
      "text/html": [
       "<div>\n",
       "<style scoped>\n",
       "    .dataframe tbody tr th:only-of-type {\n",
       "        vertical-align: middle;\n",
       "    }\n",
       "\n",
       "    .dataframe tbody tr th {\n",
       "        vertical-align: top;\n",
       "    }\n",
       "\n",
       "    .dataframe thead th {\n",
       "        text-align: right;\n",
       "    }\n",
       "</style>\n",
       "<table border=\"1\" class=\"dataframe\">\n",
       "  <thead>\n",
       "    <tr style=\"text-align: right;\">\n",
       "      <th></th>\n",
       "      <th>review_id</th>\n",
       "      <th>order_id</th>\n",
       "      <th>review_score</th>\n",
       "      <th>review_comment_title</th>\n",
       "      <th>review_comment_message</th>\n",
       "    </tr>\n",
       "  </thead>\n",
       "  <tbody>\n",
       "    <tr>\n",
       "      <th>3317</th>\n",
       "      <td>3242cc306a9218d0377831e175d62fbf</td>\n",
       "      <td>9c5bfba7de6a4abbb6ba0baab78d1622</td>\n",
       "      <td>5</td>\n",
       "      <td>NaN</td>\n",
       "      <td>Ótimo</td>\n",
       "    </tr>\n",
       "    <tr>\n",
       "      <th>5719</th>\n",
       "      <td>308316408775d1600dad81bd3184556d</td>\n",
       "      <td>3fe4dbcdb046a475dbf25463c1ca78bd</td>\n",
       "      <td>5</td>\n",
       "      <td>NaN</td>\n",
       "      <td>Ajudem a rastrear uma das 3 prateleiras que fa...</td>\n",
       "    </tr>\n",
       "    <tr>\n",
       "      <th>7213</th>\n",
       "      <td>8ee90ac383cf825bb7f4756130d4e74a</td>\n",
       "      <td>75d5d3d16567a27eefc5752aeb063072</td>\n",
       "      <td>5</td>\n",
       "      <td>NaN</td>\n",
       "      <td>recomendo</td>\n",
       "    </tr>\n",
       "    <tr>\n",
       "      <th>9013</th>\n",
       "      <td>03a6a25db577d0689440933055111897</td>\n",
       "      <td>3fde8b7313af6b37b84b5c7594d7add0</td>\n",
       "      <td>5</td>\n",
       "      <td>NaN</td>\n",
       "      <td>Muito Bom! Gostei Bastante! Tecido Ótimo! Aten...</td>\n",
       "    </tr>\n",
       "    <tr>\n",
       "      <th>9387</th>\n",
       "      <td>7168439a7228c5684a494116c1c8da5f</td>\n",
       "      <td>d191ac7a9642a12d39419f26f43f800c</td>\n",
       "      <td>5</td>\n",
       "      <td>recomendo</td>\n",
       "      <td>embalagem apropriada, entregue dentro do prazo</td>\n",
       "    </tr>\n",
       "    <tr>\n",
       "      <th>10852</th>\n",
       "      <td>1c0c84f0e3132c3af0a17f0aa4987879</td>\n",
       "      <td>60b3fa9424e97cd3b6b95ca799d511c6</td>\n",
       "      <td>1</td>\n",
       "      <td>NaN</td>\n",
       "      <td>Muito ruim a qualidade, as bordas do desenho v...</td>\n",
       "    </tr>\n",
       "    <tr>\n",
       "      <th>11623</th>\n",
       "      <td>1708c3eec64152cb52fe56bb3abcf257</td>\n",
       "      <td>5dc05f32211efb743fde17f226adfb6b</td>\n",
       "      <td>4</td>\n",
       "      <td>NaN</td>\n",
       "      <td>Produto correspondeu as discrições</td>\n",
       "    </tr>\n",
       "    <tr>\n",
       "      <th>13878</th>\n",
       "      <td>5d1f78d752c653e019bd07cc48106300</td>\n",
       "      <td>5239a1d5badf5276845d8c71dbeb8fc9</td>\n",
       "      <td>5</td>\n",
       "      <td>NaN</td>\n",
       "      <td>otimo de se comprar</td>\n",
       "    </tr>\n",
       "    <tr>\n",
       "      <th>14206</th>\n",
       "      <td>1f5aa5d7c3ee7895e4d223797b5a5f2d</td>\n",
       "      <td>17df2cc060680fc1712991499b645cd2</td>\n",
       "      <td>5</td>\n",
       "      <td>NaN</td>\n",
       "      <td>Tudo ocorreu de forma eficiente</td>\n",
       "    </tr>\n",
       "    <tr>\n",
       "      <th>15215</th>\n",
       "      <td>5fbdc041e0938773613c1a6fbbf7b62a</td>\n",
       "      <td>75df014e897510b97edbb6261ef40f82</td>\n",
       "      <td>5</td>\n",
       "      <td>NaN</td>\n",
       "      <td>Produto original, entrega rápida e bom preço!!!</td>\n",
       "    </tr>\n",
       "  </tbody>\n",
       "</table>\n",
       "</div>"
      ],
      "text/plain": [
       "                              review_id                          order_id  \\\n",
       "3317   3242cc306a9218d0377831e175d62fbf  9c5bfba7de6a4abbb6ba0baab78d1622   \n",
       "5719   308316408775d1600dad81bd3184556d  3fe4dbcdb046a475dbf25463c1ca78bd   \n",
       "7213   8ee90ac383cf825bb7f4756130d4e74a  75d5d3d16567a27eefc5752aeb063072   \n",
       "9013   03a6a25db577d0689440933055111897  3fde8b7313af6b37b84b5c7594d7add0   \n",
       "9387   7168439a7228c5684a494116c1c8da5f  d191ac7a9642a12d39419f26f43f800c   \n",
       "10852  1c0c84f0e3132c3af0a17f0aa4987879  60b3fa9424e97cd3b6b95ca799d511c6   \n",
       "11623  1708c3eec64152cb52fe56bb3abcf257  5dc05f32211efb743fde17f226adfb6b   \n",
       "13878  5d1f78d752c653e019bd07cc48106300  5239a1d5badf5276845d8c71dbeb8fc9   \n",
       "14206  1f5aa5d7c3ee7895e4d223797b5a5f2d  17df2cc060680fc1712991499b645cd2   \n",
       "15215  5fbdc041e0938773613c1a6fbbf7b62a  75df014e897510b97edbb6261ef40f82   \n",
       "\n",
       "       review_score review_comment_title  \\\n",
       "3317              5                  NaN   \n",
       "5719              5                  NaN   \n",
       "7213              5                  NaN   \n",
       "9013              5                  NaN   \n",
       "9387              5            recomendo   \n",
       "10852             1                  NaN   \n",
       "11623             4                  NaN   \n",
       "13878             5                  NaN   \n",
       "14206             5                  NaN   \n",
       "15215             5                  NaN   \n",
       "\n",
       "                                  review_comment_message  \n",
       "3317                                              Ótimo   \n",
       "5719   Ajudem a rastrear uma das 3 prateleiras que fa...  \n",
       "7213                                           recomendo  \n",
       "9013   Muito Bom! Gostei Bastante! Tecido Ótimo! Aten...  \n",
       "9387      embalagem apropriada, entregue dentro do prazo  \n",
       "10852  Muito ruim a qualidade, as bordas do desenho v...  \n",
       "11623                 Produto correspondeu as discrições  \n",
       "13878                               otimo de se comprar   \n",
       "14206                    Tudo ocorreu de forma eficiente  \n",
       "15215    Produto original, entrega rápida e bom preço!!!  "
      ]
     },
     "execution_count": 9,
     "metadata": {},
     "output_type": "execute_result"
    }
   ],
   "source": [
    "# View samples of duplicated review_id\n",
    "df[df.duplicated(subset='review_id')].head(10)"
   ]
  },
  {
   "cell_type": "code",
   "execution_count": 10,
   "id": "e99bde88",
   "metadata": {},
   "outputs": [
    {
     "data": {
      "text/html": [
       "<div>\n",
       "<style scoped>\n",
       "    .dataframe tbody tr th:only-of-type {\n",
       "        vertical-align: middle;\n",
       "    }\n",
       "\n",
       "    .dataframe tbody tr th {\n",
       "        vertical-align: top;\n",
       "    }\n",
       "\n",
       "    .dataframe thead th {\n",
       "        text-align: right;\n",
       "    }\n",
       "</style>\n",
       "<table border=\"1\" class=\"dataframe\">\n",
       "  <thead>\n",
       "    <tr style=\"text-align: right;\">\n",
       "      <th></th>\n",
       "      <th>review_id</th>\n",
       "      <th>order_id</th>\n",
       "      <th>review_score</th>\n",
       "      <th>review_comment_title</th>\n",
       "      <th>review_comment_message</th>\n",
       "    </tr>\n",
       "  </thead>\n",
       "  <tbody>\n",
       "    <tr>\n",
       "      <th>1009</th>\n",
       "      <td>3242cc306a9218d0377831e175d62fbf</td>\n",
       "      <td>711246846695fa895c1776f0ddc30b20</td>\n",
       "      <td>5</td>\n",
       "      <td>NaN</td>\n",
       "      <td>Ótimo</td>\n",
       "    </tr>\n",
       "    <tr>\n",
       "      <th>3317</th>\n",
       "      <td>3242cc306a9218d0377831e175d62fbf</td>\n",
       "      <td>9c5bfba7de6a4abbb6ba0baab78d1622</td>\n",
       "      <td>5</td>\n",
       "      <td>NaN</td>\n",
       "      <td>Ótimo</td>\n",
       "    </tr>\n",
       "    <tr>\n",
       "      <th>4545</th>\n",
       "      <td>308316408775d1600dad81bd3184556d</td>\n",
       "      <td>27e5ed2ecefbe0bcc9ae0c9b26b763c3</td>\n",
       "      <td>5</td>\n",
       "      <td>NaN</td>\n",
       "      <td>Ajudem a rastrear uma das 3 prateleiras que fa...</td>\n",
       "    </tr>\n",
       "    <tr>\n",
       "      <th>5719</th>\n",
       "      <td>308316408775d1600dad81bd3184556d</td>\n",
       "      <td>3fe4dbcdb046a475dbf25463c1ca78bd</td>\n",
       "      <td>5</td>\n",
       "      <td>NaN</td>\n",
       "      <td>Ajudem a rastrear uma das 3 prateleiras que fa...</td>\n",
       "    </tr>\n",
       "    <tr>\n",
       "      <th>53661</th>\n",
       "      <td>308316408775d1600dad81bd3184556d</td>\n",
       "      <td>8b3c2785144e72ccba9b0213f0f1cd1e</td>\n",
       "      <td>5</td>\n",
       "      <td>NaN</td>\n",
       "      <td>Ajudem a rastrear uma das 3 prateleiras que fa...</td>\n",
       "    </tr>\n",
       "  </tbody>\n",
       "</table>\n",
       "</div>"
      ],
      "text/plain": [
       "                              review_id                          order_id  \\\n",
       "1009   3242cc306a9218d0377831e175d62fbf  711246846695fa895c1776f0ddc30b20   \n",
       "3317   3242cc306a9218d0377831e175d62fbf  9c5bfba7de6a4abbb6ba0baab78d1622   \n",
       "4545   308316408775d1600dad81bd3184556d  27e5ed2ecefbe0bcc9ae0c9b26b763c3   \n",
       "5719   308316408775d1600dad81bd3184556d  3fe4dbcdb046a475dbf25463c1ca78bd   \n",
       "53661  308316408775d1600dad81bd3184556d  8b3c2785144e72ccba9b0213f0f1cd1e   \n",
       "\n",
       "       review_score review_comment_title  \\\n",
       "1009              5                  NaN   \n",
       "3317              5                  NaN   \n",
       "4545              5                  NaN   \n",
       "5719              5                  NaN   \n",
       "53661             5                  NaN   \n",
       "\n",
       "                                  review_comment_message  \n",
       "1009                                              Ótimo   \n",
       "3317                                              Ótimo   \n",
       "4545   Ajudem a rastrear uma das 3 prateleiras que fa...  \n",
       "5719   Ajudem a rastrear uma das 3 prateleiras que fa...  \n",
       "53661  Ajudem a rastrear uma das 3 prateleiras que fa...  "
      ]
     },
     "execution_count": 10,
     "metadata": {},
     "output_type": "execute_result"
    }
   ],
   "source": [
    "# View dataset of first 2 samples\n",
    "df[df['review_id'].isin(['3242cc306a9218d0377831e175d62fbf', '308316408775d1600dad81bd3184556d'])]\n",
    "\n",
    "# The review_id has duplicates due to the same review for multiple products ordered"
   ]
  },
  {
   "cell_type": "code",
   "execution_count": 11,
   "id": "9664f47f",
   "metadata": {},
   "outputs": [
    {
     "data": {
      "text/plain": [
       "309"
      ]
     },
     "execution_count": 11,
     "metadata": {},
     "output_type": "execute_result"
    }
   ],
   "source": [
    "# Check for any duplicates based on review_id and review_comment_message\n",
    "len(df[df.duplicated(subset=['review_id', 'review_comment_message'])])\n",
    "\n",
    "# This duplicate count here is same as that based on review_id\n",
    "# This implies that the same review message is applied to multiple product items within the same purchase"
   ]
  },
  {
   "cell_type": "code",
   "execution_count": 12,
   "id": "b3728f9a",
   "metadata": {},
   "outputs": [
    {
     "name": "stdout",
     "output_type": "stream",
     "text": [
      "Row count after removing duplicates:40668\n"
     ]
    },
    {
     "data": {
      "text/html": [
       "<div>\n",
       "<style scoped>\n",
       "    .dataframe tbody tr th:only-of-type {\n",
       "        vertical-align: middle;\n",
       "    }\n",
       "\n",
       "    .dataframe tbody tr th {\n",
       "        vertical-align: top;\n",
       "    }\n",
       "\n",
       "    .dataframe thead th {\n",
       "        text-align: right;\n",
       "    }\n",
       "</style>\n",
       "<table border=\"1\" class=\"dataframe\">\n",
       "  <thead>\n",
       "    <tr style=\"text-align: right;\">\n",
       "      <th></th>\n",
       "      <th>review_id</th>\n",
       "      <th>order_id</th>\n",
       "      <th>review_score</th>\n",
       "      <th>review_comment_title</th>\n",
       "      <th>review_comment_message</th>\n",
       "    </tr>\n",
       "  </thead>\n",
       "  <tbody>\n",
       "    <tr>\n",
       "      <th>3</th>\n",
       "      <td>e64fb393e7b32834bb789ff8bb30750e</td>\n",
       "      <td>658677c97b385a9be170737859d3511b</td>\n",
       "      <td>5</td>\n",
       "      <td>NaN</td>\n",
       "      <td>Recebi bem antes do prazo estipulado.</td>\n",
       "    </tr>\n",
       "    <tr>\n",
       "      <th>4</th>\n",
       "      <td>f7c4243c7fe1938f181bec41a392bdeb</td>\n",
       "      <td>8e6bfb81e283fa7e4f11123a3fb894f1</td>\n",
       "      <td>5</td>\n",
       "      <td>NaN</td>\n",
       "      <td>Parabéns lojas lannister adorei comprar pela I...</td>\n",
       "    </tr>\n",
       "    <tr>\n",
       "      <th>9</th>\n",
       "      <td>8670d52e15e00043ae7de4c01cc2fe06</td>\n",
       "      <td>b9bf720beb4ab3728760088589c62129</td>\n",
       "      <td>4</td>\n",
       "      <td>recomendo</td>\n",
       "      <td>aparelho eficiente. no site a marca do aparelh...</td>\n",
       "    </tr>\n",
       "    <tr>\n",
       "      <th>12</th>\n",
       "      <td>4b49719c8a200003f700d3d986ea1a19</td>\n",
       "      <td>9d6f15f95d01e79bd1349cc208361f09</td>\n",
       "      <td>4</td>\n",
       "      <td>NaN</td>\n",
       "      <td>Mas um pouco ,travando...pelo valor ta Boa.\\r\\n</td>\n",
       "    </tr>\n",
       "    <tr>\n",
       "      <th>15</th>\n",
       "      <td>3948b09f7c818e2d86c9a546758b2335</td>\n",
       "      <td>e51478e7e277a83743b6f9991dbfa3fb</td>\n",
       "      <td>5</td>\n",
       "      <td>Super recomendo</td>\n",
       "      <td>Vendedor confiável, produto ok e entrega antes...</td>\n",
       "    </tr>\n",
       "  </tbody>\n",
       "</table>\n",
       "</div>"
      ],
      "text/plain": [
       "                           review_id                          order_id  \\\n",
       "3   e64fb393e7b32834bb789ff8bb30750e  658677c97b385a9be170737859d3511b   \n",
       "4   f7c4243c7fe1938f181bec41a392bdeb  8e6bfb81e283fa7e4f11123a3fb894f1   \n",
       "9   8670d52e15e00043ae7de4c01cc2fe06  b9bf720beb4ab3728760088589c62129   \n",
       "12  4b49719c8a200003f700d3d986ea1a19  9d6f15f95d01e79bd1349cc208361f09   \n",
       "15  3948b09f7c818e2d86c9a546758b2335  e51478e7e277a83743b6f9991dbfa3fb   \n",
       "\n",
       "    review_score review_comment_title  \\\n",
       "3              5                  NaN   \n",
       "4              5                  NaN   \n",
       "9              4            recomendo   \n",
       "12             4                  NaN   \n",
       "15             5      Super recomendo   \n",
       "\n",
       "                               review_comment_message  \n",
       "3               Recebi bem antes do prazo estipulado.  \n",
       "4   Parabéns lojas lannister adorei comprar pela I...  \n",
       "9   aparelho eficiente. no site a marca do aparelh...  \n",
       "12    Mas um pouco ,travando...pelo valor ta Boa.\\r\\n  \n",
       "15  Vendedor confiável, produto ok e entrega antes...  "
      ]
     },
     "execution_count": 12,
     "metadata": {},
     "output_type": "execute_result"
    }
   ],
   "source": [
    "# Remove duplicates\n",
    "df.drop_duplicates(subset=['review_id', 'review_comment_message'], inplace=True)\n",
    "print(f'Row count after removing duplicates:{len(df)}')\n",
    "\n",
    "# View data\n",
    "df.head()"
   ]
  },
  {
   "cell_type": "code",
   "execution_count": 13,
   "id": "98e9fc3d",
   "metadata": {},
   "outputs": [
    {
     "name": "stdout",
     "output_type": "stream",
     "text": [
      "40668\n",
      "order_id\n",
      "Merge with df using order_id:\n",
      "\n",
      "\n"
     ]
    },
    {
     "name": "stderr",
     "output_type": "stream",
     "text": [
      "<ipython-input-13-a73d2bf82844>:24: SettingWithCopyWarning: \n",
      "A value is trying to be set on a copy of a slice from a DataFrame\n",
      "\n",
      "See the caveats in the documentation: https://pandas.pydata.org/pandas-docs/stable/user_guide/indexing.html#returning-a-view-versus-a-copy\n",
      "  df_.drop_duplicates(subset=[id_], inplace=True)\n"
     ]
    },
    {
     "name": "stdout",
     "output_type": "stream",
     "text": [
      "order_id\n",
      "Merge with df using order_id:\n",
      "\n",
      "\n",
      "product_id\n",
      "Merge with df using product_id:\n",
      "\n",
      "\n",
      "product_category_name\n",
      "Merge with df using product_category_name:\n",
      "\n",
      "\n",
      "customer_id\n",
      "Merge with df using customer_id:\n",
      "\n",
      "\n",
      "40668\n"
     ]
    },
    {
     "data": {
      "text/html": [
       "<div>\n",
       "<style scoped>\n",
       "    .dataframe tbody tr th:only-of-type {\n",
       "        vertical-align: middle;\n",
       "    }\n",
       "\n",
       "    .dataframe tbody tr th {\n",
       "        vertical-align: top;\n",
       "    }\n",
       "\n",
       "    .dataframe thead th {\n",
       "        text-align: right;\n",
       "    }\n",
       "</style>\n",
       "<table border=\"1\" class=\"dataframe\">\n",
       "  <thead>\n",
       "    <tr style=\"text-align: right;\">\n",
       "      <th></th>\n",
       "      <th>review_id</th>\n",
       "      <th>order_id</th>\n",
       "      <th>review_score</th>\n",
       "      <th>review_comment_title</th>\n",
       "      <th>review_comment_message</th>\n",
       "      <th>customer_id</th>\n",
       "      <th>order_delivered_customer_date</th>\n",
       "      <th>order_estimated_delivery_date</th>\n",
       "      <th>product_id</th>\n",
       "      <th>product_category_name</th>\n",
       "      <th>product_category_name_english</th>\n",
       "      <th>customer_city</th>\n",
       "      <th>customer_state</th>\n",
       "    </tr>\n",
       "  </thead>\n",
       "  <tbody>\n",
       "    <tr>\n",
       "      <th>0</th>\n",
       "      <td>e64fb393e7b32834bb789ff8bb30750e</td>\n",
       "      <td>658677c97b385a9be170737859d3511b</td>\n",
       "      <td>5</td>\n",
       "      <td>NaN</td>\n",
       "      <td>Recebi bem antes do prazo estipulado.</td>\n",
       "      <td>de6dff97e5f1ba84a3cd9a3bc97df5f6</td>\n",
       "      <td>2017-04-20 09:08:35</td>\n",
       "      <td>2017-05-10 00:00:00</td>\n",
       "      <td>52c80cedd4e90108bf4fa6a206ef6b03</td>\n",
       "      <td>ferramentas_jardim</td>\n",
       "      <td>garden_tools</td>\n",
       "      <td>gravatal</td>\n",
       "      <td>SC</td>\n",
       "    </tr>\n",
       "    <tr>\n",
       "      <th>1</th>\n",
       "      <td>f7c4243c7fe1938f181bec41a392bdeb</td>\n",
       "      <td>8e6bfb81e283fa7e4f11123a3fb894f1</td>\n",
       "      <td>5</td>\n",
       "      <td>NaN</td>\n",
       "      <td>Parabéns lojas lannister adorei comprar pela I...</td>\n",
       "      <td>5986b333ca0d44534a156a52a8e33a83</td>\n",
       "      <td>2018-02-28 16:33:35</td>\n",
       "      <td>2018-03-09 00:00:00</td>\n",
       "      <td>3880d25d502b15b1de6fddc42ad1d67a</td>\n",
       "      <td>esporte_lazer</td>\n",
       "      <td>sports_leisure</td>\n",
       "      <td>curitibanos</td>\n",
       "      <td>SC</td>\n",
       "    </tr>\n",
       "    <tr>\n",
       "      <th>2</th>\n",
       "      <td>8670d52e15e00043ae7de4c01cc2fe06</td>\n",
       "      <td>b9bf720beb4ab3728760088589c62129</td>\n",
       "      <td>4</td>\n",
       "      <td>recomendo</td>\n",
       "      <td>aparelho eficiente. no site a marca do aparelh...</td>\n",
       "      <td>a5224bdc7685fd39cd7a23404415493d</td>\n",
       "      <td>2018-05-21 17:52:12</td>\n",
       "      <td>2018-06-06 00:00:00</td>\n",
       "      <td>61a4100ccd6d9c4c808a1fd954ddb8ad</td>\n",
       "      <td>eletroportateis</td>\n",
       "      <td>small_appliances</td>\n",
       "      <td>sao paulo</td>\n",
       "      <td>SP</td>\n",
       "    </tr>\n",
       "    <tr>\n",
       "      <th>3</th>\n",
       "      <td>4b49719c8a200003f700d3d986ea1a19</td>\n",
       "      <td>9d6f15f95d01e79bd1349cc208361f09</td>\n",
       "      <td>4</td>\n",
       "      <td>NaN</td>\n",
       "      <td>Mas um pouco ,travando...pelo valor ta Boa.\\r\\n</td>\n",
       "      <td>8ebbeb09e94d1e789142983f73faa9cd</td>\n",
       "      <td>2018-02-15 19:16:54</td>\n",
       "      <td>2018-02-26 00:00:00</td>\n",
       "      <td>acffe5d7cd56e6b564cf6841486644ff</td>\n",
       "      <td>beleza_saude</td>\n",
       "      <td>health_beauty</td>\n",
       "      <td>cotia</td>\n",
       "      <td>SP</td>\n",
       "    </tr>\n",
       "    <tr>\n",
       "      <th>4</th>\n",
       "      <td>3948b09f7c818e2d86c9a546758b2335</td>\n",
       "      <td>e51478e7e277a83743b6f9991dbfa3fb</td>\n",
       "      <td>5</td>\n",
       "      <td>Super recomendo</td>\n",
       "      <td>Vendedor confiável, produto ok e entrega antes...</td>\n",
       "      <td>659ded3e9b43aaf51cf9586d03033b46</td>\n",
       "      <td>2018-05-22 14:58:47</td>\n",
       "      <td>2018-06-07 00:00:00</td>\n",
       "      <td>6871a3c157d6f51697e887f3c3598479</td>\n",
       "      <td>informatica_acessorios</td>\n",
       "      <td>computers_accessories</td>\n",
       "      <td>guarulhos</td>\n",
       "      <td>SP</td>\n",
       "    </tr>\n",
       "  </tbody>\n",
       "</table>\n",
       "</div>"
      ],
      "text/plain": [
       "                          review_id                          order_id  \\\n",
       "0  e64fb393e7b32834bb789ff8bb30750e  658677c97b385a9be170737859d3511b   \n",
       "1  f7c4243c7fe1938f181bec41a392bdeb  8e6bfb81e283fa7e4f11123a3fb894f1   \n",
       "2  8670d52e15e00043ae7de4c01cc2fe06  b9bf720beb4ab3728760088589c62129   \n",
       "3  4b49719c8a200003f700d3d986ea1a19  9d6f15f95d01e79bd1349cc208361f09   \n",
       "4  3948b09f7c818e2d86c9a546758b2335  e51478e7e277a83743b6f9991dbfa3fb   \n",
       "\n",
       "   review_score review_comment_title  \\\n",
       "0             5                  NaN   \n",
       "1             5                  NaN   \n",
       "2             4            recomendo   \n",
       "3             4                  NaN   \n",
       "4             5      Super recomendo   \n",
       "\n",
       "                              review_comment_message  \\\n",
       "0              Recebi bem antes do prazo estipulado.   \n",
       "1  Parabéns lojas lannister adorei comprar pela I...   \n",
       "2  aparelho eficiente. no site a marca do aparelh...   \n",
       "3    Mas um pouco ,travando...pelo valor ta Boa.\\r\\n   \n",
       "4  Vendedor confiável, produto ok e entrega antes...   \n",
       "\n",
       "                        customer_id order_delivered_customer_date  \\\n",
       "0  de6dff97e5f1ba84a3cd9a3bc97df5f6           2017-04-20 09:08:35   \n",
       "1  5986b333ca0d44534a156a52a8e33a83           2018-02-28 16:33:35   \n",
       "2  a5224bdc7685fd39cd7a23404415493d           2018-05-21 17:52:12   \n",
       "3  8ebbeb09e94d1e789142983f73faa9cd           2018-02-15 19:16:54   \n",
       "4  659ded3e9b43aaf51cf9586d03033b46           2018-05-22 14:58:47   \n",
       "\n",
       "  order_estimated_delivery_date                        product_id  \\\n",
       "0           2017-05-10 00:00:00  52c80cedd4e90108bf4fa6a206ef6b03   \n",
       "1           2018-03-09 00:00:00  3880d25d502b15b1de6fddc42ad1d67a   \n",
       "2           2018-06-06 00:00:00  61a4100ccd6d9c4c808a1fd954ddb8ad   \n",
       "3           2018-02-26 00:00:00  acffe5d7cd56e6b564cf6841486644ff   \n",
       "4           2018-06-07 00:00:00  6871a3c157d6f51697e887f3c3598479   \n",
       "\n",
       "    product_category_name product_category_name_english customer_city  \\\n",
       "0      ferramentas_jardim                  garden_tools      gravatal   \n",
       "1           esporte_lazer                sports_leisure   curitibanos   \n",
       "2         eletroportateis              small_appliances     sao paulo   \n",
       "3            beleza_saude                 health_beauty         cotia   \n",
       "4  informatica_acessorios         computers_accessories     guarulhos   \n",
       "\n",
       "  customer_state  \n",
       "0             SC  \n",
       "1             SC  \n",
       "2             SP  \n",
       "3             SP  \n",
       "4             SP  "
      ]
     },
     "execution_count": 13,
     "metadata": {},
     "output_type": "execute_result"
    }
   ],
   "source": [
    "# Filter key columns from other datasets\n",
    "order_df = order_df[['order_id', 'customer_id', 'order_delivered_customer_date', 'order_estimated_delivery_date']]\n",
    "order_item_df = order_item_df[['order_id', 'product_id']]\n",
    "prod_df = prod_df[['product_id', 'product_category_name']]\n",
    "cust_df = cust_df[['customer_id', 'customer_city', 'customer_state']]\n",
    "\n",
    "# List each dataset and its key ID for data merging\n",
    "df_list_updated = [order_df, order_item_df, prod_df, prod_trans_df, cust_df]\n",
    "df_key_id_list = ['order_id', 'order_id', 'product_id', 'product_category_name', 'customer_id']\n",
    "\n",
    "# Remove duplicates and merge with other datasets to extract key features\n",
    "print(len(df)) # Get dataset row count before merging to check for any duplicates\n",
    "\n",
    "i = 0 # Set counter to loop through the list\n",
    "for df_ in df_list_updated:\n",
    "    \n",
    "    # Get respective key id from df_key_id_list\n",
    "    id_ = df_key_id_list[i]\n",
    "    print(id_)\n",
    "    \n",
    "    # Remove duplicates before merging\n",
    "    print('Merge with df using ' + id_ + ':')\n",
    "    print('\\n')\n",
    "    df_.drop_duplicates(subset=[id_], inplace=True)\n",
    "    df = df.merge(df_, on=id_, how='left')\n",
    "    \n",
    "    i += 1 # Update counter\n",
    "\n",
    "# The dataset row count should remain unchanged after merging, indicating the dataset shape remained intact\n",
    "print(len(df)) \n",
    "\n",
    "# View data\n",
    "df.head()"
   ]
  },
  {
   "cell_type": "code",
   "execution_count": 14,
   "id": "19b1c3c4",
   "metadata": {
    "scrolled": true
   },
   "outputs": [
    {
     "data": {
      "text/plain": [
       "review_id                            0\n",
       "order_id                             0\n",
       "review_score                         0\n",
       "review_comment_title             30870\n",
       "review_comment_message               0\n",
       "customer_id                          0\n",
       "order_delivered_customer_date     1846\n",
       "order_estimated_delivery_date        0\n",
       "product_id                         504\n",
       "product_category_name             1109\n",
       "product_category_name_english     1119\n",
       "customer_city                        0\n",
       "customer_state                       0\n",
       "dtype: int64"
      ]
     },
     "execution_count": 14,
     "metadata": {},
     "output_type": "execute_result"
    }
   ],
   "source": [
    "# View any missing values\n",
    "df.isnull().sum()"
   ]
  },
  {
   "cell_type": "markdown",
   "id": "5e464d4e",
   "metadata": {},
   "source": [
    "# Explatory Data Analysis (EDA)"
   ]
  },
  {
   "cell_type": "markdown",
   "id": "152aedc1",
   "metadata": {},
   "source": [
    "### Late Delivery Indicator"
   ]
  },
  {
   "cell_type": "code",
   "execution_count": 15,
   "id": "2f40aed7",
   "metadata": {
    "scrolled": true
   },
   "outputs": [
    {
     "name": "stdout",
     "output_type": "stream",
     "text": [
      "0    0.862472\n",
      "1    0.137528\n",
      "Name: delivery_late_ind, dtype: float64\n"
     ]
    },
    {
     "data": {
      "text/html": [
       "<div>\n",
       "<style scoped>\n",
       "    .dataframe tbody tr th:only-of-type {\n",
       "        vertical-align: middle;\n",
       "    }\n",
       "\n",
       "    .dataframe tbody tr th {\n",
       "        vertical-align: top;\n",
       "    }\n",
       "\n",
       "    .dataframe thead th {\n",
       "        text-align: right;\n",
       "    }\n",
       "</style>\n",
       "<table border=\"1\" class=\"dataframe\">\n",
       "  <thead>\n",
       "    <tr style=\"text-align: right;\">\n",
       "      <th></th>\n",
       "      <th>review_id</th>\n",
       "      <th>order_id</th>\n",
       "      <th>review_score</th>\n",
       "      <th>review_comment_title</th>\n",
       "      <th>review_comment_message</th>\n",
       "      <th>customer_id</th>\n",
       "      <th>order_delivered_customer_date</th>\n",
       "      <th>order_estimated_delivery_date</th>\n",
       "      <th>product_id</th>\n",
       "      <th>product_category_name</th>\n",
       "      <th>product_category_name_english</th>\n",
       "      <th>customer_city</th>\n",
       "      <th>customer_state</th>\n",
       "      <th>delivery_late_ind</th>\n",
       "    </tr>\n",
       "  </thead>\n",
       "  <tbody>\n",
       "    <tr>\n",
       "      <th>5</th>\n",
       "      <td>9314d6f9799f5bfba510cc7bcd468c01</td>\n",
       "      <td>0dacf04c5ad59fd5a0cc1faa07c34e39</td>\n",
       "      <td>2</td>\n",
       "      <td>NaN</td>\n",
       "      <td>GOSTARIA DE SABER O QUE HOUVE, SEMPRE RECEBI E...</td>\n",
       "      <td>db13a417a95ad304e9674468c17ade85</td>\n",
       "      <td>2018-02-21 01:25:41</td>\n",
       "      <td>2018-01-17</td>\n",
       "      <td>4413a608a42bd21bbf9d5abbd58c249a</td>\n",
       "      <td>cool_stuff</td>\n",
       "      <td>cool_stuff</td>\n",
       "      <td>paty do alferes</td>\n",
       "      <td>RJ</td>\n",
       "      <td>1</td>\n",
       "    </tr>\n",
       "    <tr>\n",
       "      <th>6</th>\n",
       "      <td>373cbeecea8286a2b66c97b1b157ec46</td>\n",
       "      <td>583174fbe37d3d5f0d6661be3aad1786</td>\n",
       "      <td>1</td>\n",
       "      <td>Não chegou meu produto</td>\n",
       "      <td>Péssimo</td>\n",
       "      <td>e545e697bb9d1b81e0a702121d4e94d5</td>\n",
       "      <td>NaT</td>\n",
       "      <td>2018-08-13</td>\n",
       "      <td>55a1e3d39ace9c0b217f6c30b04d43c0</td>\n",
       "      <td>malas_acessorios</td>\n",
       "      <td>luggage_accessories</td>\n",
       "      <td>guarulhos</td>\n",
       "      <td>SP</td>\n",
       "      <td>1</td>\n",
       "    </tr>\n",
       "    <tr>\n",
       "      <th>12</th>\n",
       "      <td>58044bca115705a48fe0e00a21390c54</td>\n",
       "      <td>68e55ca79d04a79f20d4bfc0146f4b66</td>\n",
       "      <td>1</td>\n",
       "      <td>NaN</td>\n",
       "      <td>Sempre compro pela Internet e a entrega ocorre...</td>\n",
       "      <td>30e6e854c81fa16f46a5d7f3ab025e6f</td>\n",
       "      <td>2018-04-11 02:12:46</td>\n",
       "      <td>2018-04-06</td>\n",
       "      <td>bfc0d01be79d9038c7720f983bf954e0</td>\n",
       "      <td>relogios_presentes</td>\n",
       "      <td>watches_gifts</td>\n",
       "      <td>esteio</td>\n",
       "      <td>RS</td>\n",
       "      <td>1</td>\n",
       "    </tr>\n",
       "    <tr>\n",
       "      <th>17</th>\n",
       "      <td>9fd59cd04b42f600df9f25e54082a8d1</td>\n",
       "      <td>3c314f50bc654f3c4e317b055681dff9</td>\n",
       "      <td>1</td>\n",
       "      <td>NaN</td>\n",
       "      <td>Nada de chegar o meu pedido.</td>\n",
       "      <td>c17d38e818f10c91ebcd036bc835a648</td>\n",
       "      <td>2017-04-24 09:18:11</td>\n",
       "      <td>2017-04-19</td>\n",
       "      <td>56b83ac081e4e6ea5f87323b4e46e85c</td>\n",
       "      <td>cama_mesa_banho</td>\n",
       "      <td>bed_bath_table</td>\n",
       "      <td>corrente</td>\n",
       "      <td>PI</td>\n",
       "      <td>1</td>\n",
       "    </tr>\n",
       "    <tr>\n",
       "      <th>29</th>\n",
       "      <td>6d06808638ec0701bccd70bc8d462c28</td>\n",
       "      <td>97d2f8fe76f2f253b8291e17b5383884</td>\n",
       "      <td>1</td>\n",
       "      <td>NaN</td>\n",
       "      <td>O produto não chegou no prazo estipulado e cau...</td>\n",
       "      <td>5458c93e0db88f9b885bc7dbc3bfa2a3</td>\n",
       "      <td>NaT</td>\n",
       "      <td>2016-12-07</td>\n",
       "      <td>a8255c87078b4bd9bc05fe7290ca5c25</td>\n",
       "      <td>automotivo</td>\n",
       "      <td>auto</td>\n",
       "      <td>cuiaba</td>\n",
       "      <td>MT</td>\n",
       "      <td>1</td>\n",
       "    </tr>\n",
       "  </tbody>\n",
       "</table>\n",
       "</div>"
      ],
      "text/plain": [
       "                           review_id                          order_id  \\\n",
       "5   9314d6f9799f5bfba510cc7bcd468c01  0dacf04c5ad59fd5a0cc1faa07c34e39   \n",
       "6   373cbeecea8286a2b66c97b1b157ec46  583174fbe37d3d5f0d6661be3aad1786   \n",
       "12  58044bca115705a48fe0e00a21390c54  68e55ca79d04a79f20d4bfc0146f4b66   \n",
       "17  9fd59cd04b42f600df9f25e54082a8d1  3c314f50bc654f3c4e317b055681dff9   \n",
       "29  6d06808638ec0701bccd70bc8d462c28  97d2f8fe76f2f253b8291e17b5383884   \n",
       "\n",
       "    review_score     review_comment_title  \\\n",
       "5              2                      NaN   \n",
       "6              1  Não chegou meu produto    \n",
       "12             1                      NaN   \n",
       "17             1                      NaN   \n",
       "29             1                      NaN   \n",
       "\n",
       "                               review_comment_message  \\\n",
       "5   GOSTARIA DE SABER O QUE HOUVE, SEMPRE RECEBI E...   \n",
       "6                                             Péssimo   \n",
       "12  Sempre compro pela Internet e a entrega ocorre...   \n",
       "17                       Nada de chegar o meu pedido.   \n",
       "29  O produto não chegou no prazo estipulado e cau...   \n",
       "\n",
       "                         customer_id order_delivered_customer_date  \\\n",
       "5   db13a417a95ad304e9674468c17ade85           2018-02-21 01:25:41   \n",
       "6   e545e697bb9d1b81e0a702121d4e94d5                           NaT   \n",
       "12  30e6e854c81fa16f46a5d7f3ab025e6f           2018-04-11 02:12:46   \n",
       "17  c17d38e818f10c91ebcd036bc835a648           2017-04-24 09:18:11   \n",
       "29  5458c93e0db88f9b885bc7dbc3bfa2a3                           NaT   \n",
       "\n",
       "   order_estimated_delivery_date                        product_id  \\\n",
       "5                     2018-01-17  4413a608a42bd21bbf9d5abbd58c249a   \n",
       "6                     2018-08-13  55a1e3d39ace9c0b217f6c30b04d43c0   \n",
       "12                    2018-04-06  bfc0d01be79d9038c7720f983bf954e0   \n",
       "17                    2017-04-19  56b83ac081e4e6ea5f87323b4e46e85c   \n",
       "29                    2016-12-07  a8255c87078b4bd9bc05fe7290ca5c25   \n",
       "\n",
       "   product_category_name product_category_name_english    customer_city  \\\n",
       "5             cool_stuff                    cool_stuff  paty do alferes   \n",
       "6       malas_acessorios           luggage_accessories        guarulhos   \n",
       "12    relogios_presentes                 watches_gifts           esteio   \n",
       "17       cama_mesa_banho                bed_bath_table         corrente   \n",
       "29            automotivo                          auto           cuiaba   \n",
       "\n",
       "   customer_state  delivery_late_ind  \n",
       "5              RJ                  1  \n",
       "6              SP                  1  \n",
       "12             RS                  1  \n",
       "17             PI                  1  \n",
       "29             MT                  1  "
      ]
     },
     "execution_count": 15,
     "metadata": {},
     "output_type": "execute_result"
    },
    {
     "data": {
      "image/png": "[encoded data removed]",
      "text/plain": [
       "<Figure size 432x288 with 1 Axes>"
      ]
     },
     "metadata": {
      "needs_background": "light"
     },
     "output_type": "display_data"
    }
   ],
   "source": [
    "# Determine if the delivery was late or never arrived (missing order_delivered_customer_date is assumed to never arrive)\n",
    "date_vars = ['order_estimated_delivery_date', 'order_delivered_customer_date']\n",
    "df[date_vars] = df[date_vars].astype(np.datetime64)\n",
    "df['delivery_late_ind'] = 0\n",
    "df.loc[(df['order_delivered_customer_date'].isnull()) | \n",
    "       (df['order_delivered_customer_date'] > df['order_estimated_delivery_date'] + pd.Timedelta(days=1)), 'delivery_late_ind'] = 1\n",
    "\n",
    "# View distribution\n",
    "df.hist(column='delivery_late_ind')\n",
    "print(df['delivery_late_ind'].value_counts(normalize=True).sort_index())\n",
    "\n",
    "# View data samples\n",
    "df[df['delivery_late_ind'] > 0].head() \n",
    "\n",
    "# First review message is all capitalized, expressing dissatisfaction frustratingly.\n",
    "# Discovering whether entire review message is capitalized might provide insights towards the sentiments.\n",
    "# There are around 14% of reviews with late deliveries.\n",
    "# It may be a redundant feature in identifying sentiments as intuitively,\n",
    "# reviews would tend to mention \"entrega tardia\" or \"late delivery\".\n",
    "# This would be picked up by the word vectorizer later."
   ]
  },
  {
   "cell_type": "markdown",
   "id": "0af315d4",
   "metadata": {},
   "source": [
    "### Capitalized Review Message Indicator"
   ]
  },
  {
   "cell_type": "code",
   "execution_count": 16,
   "id": "77209185",
   "metadata": {},
   "outputs": [
    {
     "name": "stdout",
     "output_type": "stream",
     "text": [
      "0    0.963829\n",
      "1    0.036171\n",
      "Name: capitalize_ind, dtype: float64\n"
     ]
    },
    {
     "data": {
      "text/html": [
       "<div>\n",
       "<style scoped>\n",
       "    .dataframe tbody tr th:only-of-type {\n",
       "        vertical-align: middle;\n",
       "    }\n",
       "\n",
       "    .dataframe tbody tr th {\n",
       "        vertical-align: top;\n",
       "    }\n",
       "\n",
       "    .dataframe thead th {\n",
       "        text-align: right;\n",
       "    }\n",
       "</style>\n",
       "<table border=\"1\" class=\"dataframe\">\n",
       "  <thead>\n",
       "    <tr style=\"text-align: right;\">\n",
       "      <th></th>\n",
       "      <th>review_id</th>\n",
       "      <th>order_id</th>\n",
       "      <th>review_score</th>\n",
       "      <th>review_comment_title</th>\n",
       "      <th>review_comment_message</th>\n",
       "      <th>customer_id</th>\n",
       "      <th>order_delivered_customer_date</th>\n",
       "      <th>order_estimated_delivery_date</th>\n",
       "      <th>product_id</th>\n",
       "      <th>product_category_name</th>\n",
       "      <th>product_category_name_english</th>\n",
       "      <th>customer_city</th>\n",
       "      <th>customer_state</th>\n",
       "      <th>delivery_late_ind</th>\n",
       "      <th>capitalize_ind</th>\n",
       "    </tr>\n",
       "  </thead>\n",
       "  <tbody>\n",
       "    <tr>\n",
       "      <th>5</th>\n",
       "      <td>9314d6f9799f5bfba510cc7bcd468c01</td>\n",
       "      <td>0dacf04c5ad59fd5a0cc1faa07c34e39</td>\n",
       "      <td>2</td>\n",
       "      <td>NaN</td>\n",
       "      <td>GOSTARIA DE SABER O QUE HOUVE, SEMPRE RECEBI E...</td>\n",
       "      <td>db13a417a95ad304e9674468c17ade85</td>\n",
       "      <td>2018-02-21 01:25:41</td>\n",
       "      <td>2018-01-17</td>\n",
       "      <td>4413a608a42bd21bbf9d5abbd58c249a</td>\n",
       "      <td>cool_stuff</td>\n",
       "      <td>cool_stuff</td>\n",
       "      <td>paty do alferes</td>\n",
       "      <td>RJ</td>\n",
       "      <td>1</td>\n",
       "      <td>1</td>\n",
       "    </tr>\n",
       "    <tr>\n",
       "      <th>42</th>\n",
       "      <td>1692078634b63c7f25aa90ee746ec498</td>\n",
       "      <td>5bc4e94aef2841f392fb6fe7ceef69b6</td>\n",
       "      <td>5</td>\n",
       "      <td>OTIMO</td>\n",
       "      <td>OK RECOMENDO</td>\n",
       "      <td>017f022018ad01373771ddfd46eb5dc6</td>\n",
       "      <td>2018-05-22 17:22:53</td>\n",
       "      <td>2018-06-01</td>\n",
       "      <td>2770305847be150f16eb0b25fa7c171b</td>\n",
       "      <td>informatica_acessorios</td>\n",
       "      <td>computers_accessories</td>\n",
       "      <td>recife</td>\n",
       "      <td>PE</td>\n",
       "      <td>0</td>\n",
       "      <td>1</td>\n",
       "    </tr>\n",
       "    <tr>\n",
       "      <th>56</th>\n",
       "      <td>3f6d9482c57cdb5fc7012f7b9b5ed4c5</td>\n",
       "      <td>2a3251c95a3d5c57ed230021faa588a0</td>\n",
       "      <td>5</td>\n",
       "      <td>NaN</td>\n",
       "      <td>OTIMA</td>\n",
       "      <td>d59025c30cdd8d747f2acfa5fdc2925a</td>\n",
       "      <td>2018-04-18 23:28:43</td>\n",
       "      <td>2018-04-27</td>\n",
       "      <td>56c221c4c1a4a98293895c4563cdc6bf</td>\n",
       "      <td>construcao_ferramentas_seguranca</td>\n",
       "      <td>construction_tools_safety</td>\n",
       "      <td>joao pessoa</td>\n",
       "      <td>PB</td>\n",
       "      <td>0</td>\n",
       "      <td>1</td>\n",
       "    </tr>\n",
       "    <tr>\n",
       "      <th>59</th>\n",
       "      <td>ef8ae544c432bb1053ba5990bd0d6227</td>\n",
       "      <td>e18ebd6286697a3f0f6fe267d8286cb2</td>\n",
       "      <td>1</td>\n",
       "      <td>NaN</td>\n",
       "      <td>EU NÃO RECEBI O PRODUTO E CONSTA NO SISTEMA QU...</td>\n",
       "      <td>de3488839c20b6109821b6a1af9818df</td>\n",
       "      <td>2018-01-11 23:16:14</td>\n",
       "      <td>2018-02-01</td>\n",
       "      <td>78efe838c04bbc568be034082200ac20</td>\n",
       "      <td>moveis_decoracao</td>\n",
       "      <td>furniture_decor</td>\n",
       "      <td>maua</td>\n",
       "      <td>SP</td>\n",
       "      <td>0</td>\n",
       "      <td>1</td>\n",
       "    </tr>\n",
       "    <tr>\n",
       "      <th>64</th>\n",
       "      <td>d8f61c7fcd172785563a65cd65a8cea8</td>\n",
       "      <td>cf34fe44babb9fd001a001acfa43cabf</td>\n",
       "      <td>5</td>\n",
       "      <td>NaN</td>\n",
       "      <td>OK</td>\n",
       "      <td>fe082a45e6e64db9443e39ef7e3d415a</td>\n",
       "      <td>2017-11-18 09:21:44</td>\n",
       "      <td>2017-11-24</td>\n",
       "      <td>40540b68d7fd077e46c33308fb59c2f5</td>\n",
       "      <td>cama_mesa_banho</td>\n",
       "      <td>bed_bath_table</td>\n",
       "      <td>sao paulo</td>\n",
       "      <td>SP</td>\n",
       "      <td>0</td>\n",
       "      <td>1</td>\n",
       "    </tr>\n",
       "  </tbody>\n",
       "</table>\n",
       "</div>"
      ],
      "text/plain": [
       "                           review_id                          order_id  \\\n",
       "5   9314d6f9799f5bfba510cc7bcd468c01  0dacf04c5ad59fd5a0cc1faa07c34e39   \n",
       "42  1692078634b63c7f25aa90ee746ec498  5bc4e94aef2841f392fb6fe7ceef69b6   \n",
       "56  3f6d9482c57cdb5fc7012f7b9b5ed4c5  2a3251c95a3d5c57ed230021faa588a0   \n",
       "59  ef8ae544c432bb1053ba5990bd0d6227  e18ebd6286697a3f0f6fe267d8286cb2   \n",
       "64  d8f61c7fcd172785563a65cd65a8cea8  cf34fe44babb9fd001a001acfa43cabf   \n",
       "\n",
       "    review_score review_comment_title  \\\n",
       "5              2                  NaN   \n",
       "42             5                OTIMO   \n",
       "56             5                  NaN   \n",
       "59             1                  NaN   \n",
       "64             5                  NaN   \n",
       "\n",
       "                               review_comment_message  \\\n",
       "5   GOSTARIA DE SABER O QUE HOUVE, SEMPRE RECEBI E...   \n",
       "42                                       OK RECOMENDO   \n",
       "56                                              OTIMA   \n",
       "59  EU NÃO RECEBI O PRODUTO E CONSTA NO SISTEMA QU...   \n",
       "64                                                 OK   \n",
       "\n",
       "                         customer_id order_delivered_customer_date  \\\n",
       "5   db13a417a95ad304e9674468c17ade85           2018-02-21 01:25:41   \n",
       "42  017f022018ad01373771ddfd46eb5dc6           2018-05-22 17:22:53   \n",
       "56  d59025c30cdd8d747f2acfa5fdc2925a           2018-04-18 23:28:43   \n",
       "59  de3488839c20b6109821b6a1af9818df           2018-01-11 23:16:14   \n",
       "64  fe082a45e6e64db9443e39ef7e3d415a           2017-11-18 09:21:44   \n",
       "\n",
       "   order_estimated_delivery_date                        product_id  \\\n",
       "5                     2018-01-17  4413a608a42bd21bbf9d5abbd58c249a   \n",
       "42                    2018-06-01  2770305847be150f16eb0b25fa7c171b   \n",
       "56                    2018-04-27  56c221c4c1a4a98293895c4563cdc6bf   \n",
       "59                    2018-02-01  78efe838c04bbc568be034082200ac20   \n",
       "64                    2017-11-24  40540b68d7fd077e46c33308fb59c2f5   \n",
       "\n",
       "               product_category_name product_category_name_english  \\\n",
       "5                         cool_stuff                    cool_stuff   \n",
       "42            informatica_acessorios         computers_accessories   \n",
       "56  construcao_ferramentas_seguranca     construction_tools_safety   \n",
       "59                  moveis_decoracao               furniture_decor   \n",
       "64                   cama_mesa_banho                bed_bath_table   \n",
       "\n",
       "      customer_city customer_state  delivery_late_ind  capitalize_ind  \n",
       "5   paty do alferes             RJ                  1               1  \n",
       "42           recife             PE                  0               1  \n",
       "56      joao pessoa             PB                  0               1  \n",
       "59             maua             SP                  0               1  \n",
       "64        sao paulo             SP                  0               1  "
      ]
     },
     "execution_count": 16,
     "metadata": {},
     "output_type": "execute_result"
    },
    {
     "data": {
      "image/png": "[encoded data removed]",
      "text/plain": [
       "<Figure size 432x288 with 1 Axes>"
      ]
     },
     "metadata": {
      "needs_background": "light"
     },
     "output_type": "display_data"
    }
   ],
   "source": [
    "# Determine if entire review_comment_message is capitalized\n",
    "df['capitalize_ind'] = 0\n",
    "df.loc[df['review_comment_message'] == df['review_comment_message'].str.upper(), 'capitalize_ind'] = 1\n",
    "\n",
    "# View distribution\n",
    "df.hist(column='capitalize_ind')\n",
    "print(df['capitalize_ind'].value_counts(normalize=True).sort_index())\n",
    "\n",
    "# View data samples\n",
    "df[df['capitalize_ind'] > 0].head()\n",
    "\n",
    "# Only a small % of reviews are fully capitalized, may not be a good feature in identifying sentiments."
   ]
  },
  {
   "cell_type": "markdown",
   "id": "aa661374",
   "metadata": {},
   "source": [
    "### Review Message Word Count"
   ]
  },
  {
   "cell_type": "code",
   "execution_count": 17,
   "id": "e9a7a935",
   "metadata": {
    "scrolled": true
   },
   "outputs": [
    {
     "data": {
      "text/html": [
       "<div>\n",
       "<style scoped>\n",
       "    .dataframe tbody tr th:only-of-type {\n",
       "        vertical-align: middle;\n",
       "    }\n",
       "\n",
       "    .dataframe tbody tr th {\n",
       "        vertical-align: top;\n",
       "    }\n",
       "\n",
       "    .dataframe thead th {\n",
       "        text-align: right;\n",
       "    }\n",
       "</style>\n",
       "<table border=\"1\" class=\"dataframe\">\n",
       "  <thead>\n",
       "    <tr style=\"text-align: right;\">\n",
       "      <th></th>\n",
       "      <th>review_id</th>\n",
       "      <th>order_id</th>\n",
       "      <th>review_score</th>\n",
       "      <th>review_comment_title</th>\n",
       "      <th>review_comment_message</th>\n",
       "      <th>customer_id</th>\n",
       "      <th>order_delivered_customer_date</th>\n",
       "      <th>order_estimated_delivery_date</th>\n",
       "      <th>product_id</th>\n",
       "      <th>product_category_name</th>\n",
       "      <th>product_category_name_english</th>\n",
       "      <th>customer_city</th>\n",
       "      <th>customer_state</th>\n",
       "      <th>delivery_late_ind</th>\n",
       "      <th>capitalize_ind</th>\n",
       "      <th>review_message_length</th>\n",
       "    </tr>\n",
       "  </thead>\n",
       "  <tbody>\n",
       "    <tr>\n",
       "      <th>4176</th>\n",
       "      <td>007c08c01178c42ff829560cc24dd0d6</td>\n",
       "      <td>d9064a51ed213dcd0cfe59a9039ec458</td>\n",
       "      <td>5</td>\n",
       "      <td>NaN</td>\n",
       "      <td>\\r\\n\\r\\n\\r\\n\\r\\n\\r\\n\\r\\n\\r\\n\\r\\n\\r\\n\\r\\n</td>\n",
       "      <td>8c7a3139130cd3e36983e6f7626ccf6c</td>\n",
       "      <td>2017-11-17 22:56:37</td>\n",
       "      <td>2017-11-27</td>\n",
       "      <td>fc2351bcf24c714e5d21b44ad41198b7</td>\n",
       "      <td>bebes</td>\n",
       "      <td>baby</td>\n",
       "      <td>diadema</td>\n",
       "      <td>SP</td>\n",
       "      <td>0</td>\n",
       "      <td>1</td>\n",
       "      <td>0</td>\n",
       "    </tr>\n",
       "    <tr>\n",
       "      <th>4723</th>\n",
       "      <td>1fe9d2ee706fb28c431aa5d933245d45</td>\n",
       "      <td>81aa3cffc965f29788470b3e2550da67</td>\n",
       "      <td>5</td>\n",
       "      <td>Ótima</td>\n",
       "      <td>\\r\\n</td>\n",
       "      <td>5fb5fbe39b9e4109881ace8ec13c3e6a</td>\n",
       "      <td>2018-05-12 15:26:36</td>\n",
       "      <td>2018-05-18</td>\n",
       "      <td>e23ad0cd69c2d088fce8285de421f61d</td>\n",
       "      <td>pet_shop</td>\n",
       "      <td>pet_shop</td>\n",
       "      <td>campinas</td>\n",
       "      <td>SP</td>\n",
       "      <td>0</td>\n",
       "      <td>1</td>\n",
       "      <td>0</td>\n",
       "    </tr>\n",
       "    <tr>\n",
       "      <th>4895</th>\n",
       "      <td>479455dcf5c7b17c5025011776ac844e</td>\n",
       "      <td>d4c1356b86dcc8a86c603174ba27d9bc</td>\n",
       "      <td>5</td>\n",
       "      <td>NaN</td>\n",
       "      <td>\\r\\n\\r\\n</td>\n",
       "      <td>5bb44f6a01f1362e3eb39c521d1d1b08</td>\n",
       "      <td>2018-01-17 22:59:07</td>\n",
       "      <td>2018-01-30</td>\n",
       "      <td>aca2eb7d00ea1a7b8ebd4e68314663af</td>\n",
       "      <td>moveis_decoracao</td>\n",
       "      <td>furniture_decor</td>\n",
       "      <td>taubate</td>\n",
       "      <td>SP</td>\n",
       "      <td>0</td>\n",
       "      <td>1</td>\n",
       "      <td>0</td>\n",
       "    </tr>\n",
       "    <tr>\n",
       "      <th>4933</th>\n",
       "      <td>1ce11bd2d9c397e0b673035dcc533f5c</td>\n",
       "      <td>7a3f8080c604ded6519cd5b601f690b7</td>\n",
       "      <td>5</td>\n",
       "      <td>NaN</td>\n",
       "      <td>\\r\\n</td>\n",
       "      <td>804e210975d02fbfc866515639f30135</td>\n",
       "      <td>2018-05-30 13:07:50</td>\n",
       "      <td>2018-06-05</td>\n",
       "      <td>6ce07ff93c0dbafa9df5c10038e41287</td>\n",
       "      <td>cama_mesa_banho</td>\n",
       "      <td>bed_bath_table</td>\n",
       "      <td>lobato</td>\n",
       "      <td>PR</td>\n",
       "      <td>0</td>\n",
       "      <td>1</td>\n",
       "      <td>0</td>\n",
       "    </tr>\n",
       "    <tr>\n",
       "      <th>10864</th>\n",
       "      <td>b905a83cd40f67b08363261fc2d2dadb</td>\n",
       "      <td>cf65e1cf310d6860d96e2efaab1f5d75</td>\n",
       "      <td>5</td>\n",
       "      <td>NaN</td>\n",
       "      <td>\\r\\n</td>\n",
       "      <td>4bf0860a7a4807c9e9160cf4b6c2b33d</td>\n",
       "      <td>2017-08-21 17:57:43</td>\n",
       "      <td>2017-09-11</td>\n",
       "      <td>c71bf92cf123eb294304073fc1751bf3</td>\n",
       "      <td>esporte_lazer</td>\n",
       "      <td>sports_leisure</td>\n",
       "      <td>bento goncalves</td>\n",
       "      <td>RS</td>\n",
       "      <td>0</td>\n",
       "      <td>1</td>\n",
       "      <td>0</td>\n",
       "    </tr>\n",
       "  </tbody>\n",
       "</table>\n",
       "</div>"
      ],
      "text/plain": [
       "                              review_id                          order_id  \\\n",
       "4176   007c08c01178c42ff829560cc24dd0d6  d9064a51ed213dcd0cfe59a9039ec458   \n",
       "4723   1fe9d2ee706fb28c431aa5d933245d45  81aa3cffc965f29788470b3e2550da67   \n",
       "4895   479455dcf5c7b17c5025011776ac844e  d4c1356b86dcc8a86c603174ba27d9bc   \n",
       "4933   1ce11bd2d9c397e0b673035dcc533f5c  7a3f8080c604ded6519cd5b601f690b7   \n",
       "10864  b905a83cd40f67b08363261fc2d2dadb  cf65e1cf310d6860d96e2efaab1f5d75   \n",
       "\n",
       "       review_score review_comment_title  \\\n",
       "4176              5                  NaN   \n",
       "4723              5                Ótima   \n",
       "4895              5                  NaN   \n",
       "4933              5                  NaN   \n",
       "10864             5                  NaN   \n",
       "\n",
       "                         review_comment_message  \\\n",
       "4176   \\r\\n\\r\\n\\r\\n\\r\\n\\r\\n\\r\\n\\r\\n\\r\\n\\r\\n\\r\\n   \n",
       "4723                                       \\r\\n   \n",
       "4895                                   \\r\\n\\r\\n   \n",
       "4933                                       \\r\\n   \n",
       "10864                                      \\r\\n   \n",
       "\n",
       "                            customer_id order_delivered_customer_date  \\\n",
       "4176   8c7a3139130cd3e36983e6f7626ccf6c           2017-11-17 22:56:37   \n",
       "4723   5fb5fbe39b9e4109881ace8ec13c3e6a           2018-05-12 15:26:36   \n",
       "4895   5bb44f6a01f1362e3eb39c521d1d1b08           2018-01-17 22:59:07   \n",
       "4933   804e210975d02fbfc866515639f30135           2018-05-30 13:07:50   \n",
       "10864  4bf0860a7a4807c9e9160cf4b6c2b33d           2017-08-21 17:57:43   \n",
       "\n",
       "      order_estimated_delivery_date                        product_id  \\\n",
       "4176                     2017-11-27  fc2351bcf24c714e5d21b44ad41198b7   \n",
       "4723                     2018-05-18  e23ad0cd69c2d088fce8285de421f61d   \n",
       "4895                     2018-01-30  aca2eb7d00ea1a7b8ebd4e68314663af   \n",
       "4933                     2018-06-05  6ce07ff93c0dbafa9df5c10038e41287   \n",
       "10864                    2017-09-11  c71bf92cf123eb294304073fc1751bf3   \n",
       "\n",
       "      product_category_name product_category_name_english    customer_city  \\\n",
       "4176                  bebes                          baby          diadema   \n",
       "4723               pet_shop                      pet_shop         campinas   \n",
       "4895       moveis_decoracao               furniture_decor          taubate   \n",
       "4933        cama_mesa_banho                bed_bath_table           lobato   \n",
       "10864         esporte_lazer                sports_leisure  bento goncalves   \n",
       "\n",
       "      customer_state  delivery_late_ind  capitalize_ind  review_message_length  \n",
       "4176              SP                  0               1                      0  \n",
       "4723              SP                  0               1                      0  \n",
       "4895              SP                  0               1                      0  \n",
       "4933              PR                  0               1                      0  \n",
       "10864             RS                  0               1                      0  "
      ]
     },
     "execution_count": 17,
     "metadata": {},
     "output_type": "execute_result"
    },
    {
     "data": {
      "image/png": "[encoded data removed]",
      "text/plain": [
       "<Figure size 432x288 with 1 Axes>"
      ]
     },
     "metadata": {
      "needs_background": "light"
     },
     "output_type": "display_data"
    }
   ],
   "source": [
    "# Determine length of review_comment_message\n",
    "df['review_message_length'] = df['review_comment_message'].apply(lambda x: len(x.split()))\n",
    "\n",
    "# View distribution\n",
    "df.hist(column='review_message_length')\n",
    "\n",
    "# View data samples\n",
    "df[df['review_message_length'] <= 0].head()\n",
    "\n",
    "# To remove these non-empty messages with 0 word count.\n",
    "# To remove \"\\r\\n\" from the reviews."
   ]
  },
  {
   "cell_type": "code",
   "execution_count": 23,
   "id": "f64c0846",
   "metadata": {},
   "outputs": [
    {
     "name": "stdout",
     "output_type": "stream",
     "text": [
      "No. of messages with word count of 0: 0\n"
     ]
    },
    {
     "data": {
      "text/html": [
       "<div>\n",
       "<style scoped>\n",
       "    .dataframe tbody tr th:only-of-type {\n",
       "        vertical-align: middle;\n",
       "    }\n",
       "\n",
       "    .dataframe tbody tr th {\n",
       "        vertical-align: top;\n",
       "    }\n",
       "\n",
       "    .dataframe thead th {\n",
       "        text-align: right;\n",
       "    }\n",
       "</style>\n",
       "<table border=\"1\" class=\"dataframe\">\n",
       "  <thead>\n",
       "    <tr style=\"text-align: right;\">\n",
       "      <th></th>\n",
       "      <th>review_id</th>\n",
       "      <th>order_id</th>\n",
       "      <th>review_score</th>\n",
       "      <th>review_comment_title</th>\n",
       "      <th>review_comment_message</th>\n",
       "      <th>customer_id</th>\n",
       "      <th>order_delivered_customer_date</th>\n",
       "      <th>order_estimated_delivery_date</th>\n",
       "      <th>product_id</th>\n",
       "      <th>product_category_name</th>\n",
       "      <th>product_category_name_english</th>\n",
       "      <th>customer_city</th>\n",
       "      <th>customer_state</th>\n",
       "      <th>delivery_late_ind</th>\n",
       "      <th>capitalize_ind</th>\n",
       "      <th>review_message_length</th>\n",
       "    </tr>\n",
       "  </thead>\n",
       "  <tbody>\n",
       "    <tr>\n",
       "      <th>6</th>\n",
       "      <td>373cbeecea8286a2b66c97b1b157ec46</td>\n",
       "      <td>583174fbe37d3d5f0d6661be3aad1786</td>\n",
       "      <td>1</td>\n",
       "      <td>Não chegou meu produto</td>\n",
       "      <td>Péssimo</td>\n",
       "      <td>e545e697bb9d1b81e0a702121d4e94d5</td>\n",
       "      <td>NaT</td>\n",
       "      <td>2018-08-13</td>\n",
       "      <td>55a1e3d39ace9c0b217f6c30b04d43c0</td>\n",
       "      <td>malas_acessorios</td>\n",
       "      <td>luggage_accessories</td>\n",
       "      <td>guarulhos</td>\n",
       "      <td>SP</td>\n",
       "      <td>1</td>\n",
       "      <td>0</td>\n",
       "      <td>1</td>\n",
       "    </tr>\n",
       "    <tr>\n",
       "      <th>23</th>\n",
       "      <td>3d94fd645cdaacc8c9f0dc0a2a1f5166</td>\n",
       "      <td>4d483bf690ca21bdc005df9b623673c7</td>\n",
       "      <td>5</td>\n",
       "      <td>NaN</td>\n",
       "      <td>boa</td>\n",
       "      <td>80a6a8b570864a52a54462d82b6fb51f</td>\n",
       "      <td>2017-03-20 10:32:31</td>\n",
       "      <td>2017-04-04</td>\n",
       "      <td>18d307d967bbf1300aa00b34f34c374c</td>\n",
       "      <td>beleza_saude</td>\n",
       "      <td>health_beauty</td>\n",
       "      <td>santana de parnaiba</td>\n",
       "      <td>SP</td>\n",
       "      <td>0</td>\n",
       "      <td>0</td>\n",
       "      <td>1</td>\n",
       "    </tr>\n",
       "    <tr>\n",
       "      <th>35</th>\n",
       "      <td>e29ab4a671400c41322e4855de633c6a</td>\n",
       "      <td>17b296b73ebefd6213299342b09f097f</td>\n",
       "      <td>5</td>\n",
       "      <td>NaN</td>\n",
       "      <td>Maravilha</td>\n",
       "      <td>4d31792c00baf91319f111857058ee80</td>\n",
       "      <td>2017-08-08 19:27:12</td>\n",
       "      <td>2017-08-11</td>\n",
       "      <td>f7f59e6186e10983a061ac7bdb3494d6</td>\n",
       "      <td>utilidades_domesticas</td>\n",
       "      <td>housewares</td>\n",
       "      <td>campinas</td>\n",
       "      <td>SP</td>\n",
       "      <td>0</td>\n",
       "      <td>0</td>\n",
       "      <td>1</td>\n",
       "    </tr>\n",
       "    <tr>\n",
       "      <th>40</th>\n",
       "      <td>436f71c9cc0c1aab7f51dc0cd0820516</td>\n",
       "      <td>c676e726f8a14a9527b41b9dc50ca1bc</td>\n",
       "      <td>5</td>\n",
       "      <td>NaN</td>\n",
       "      <td>Satisfeito</td>\n",
       "      <td>2ca78d68b23aa3531eb8c29f55194c4e</td>\n",
       "      <td>2017-11-21 21:07:03</td>\n",
       "      <td>2017-11-30</td>\n",
       "      <td>b694e2087c446e6905b08cd9360cfe45</td>\n",
       "      <td>cama_mesa_banho</td>\n",
       "      <td>bed_bath_table</td>\n",
       "      <td>campinas</td>\n",
       "      <td>SP</td>\n",
       "      <td>0</td>\n",
       "      <td>0</td>\n",
       "      <td>1</td>\n",
       "    </tr>\n",
       "    <tr>\n",
       "      <th>55</th>\n",
       "      <td>c422274e50e900b46fee429016c5458d</td>\n",
       "      <td>950bb159eea525ff8947b92c93b02f8e</td>\n",
       "      <td>3</td>\n",
       "      <td>NaN</td>\n",
       "      <td>Gostei</td>\n",
       "      <td>ff299a256be6affac0ae1207c1b4a9b8</td>\n",
       "      <td>2017-09-23 17:09:13</td>\n",
       "      <td>2017-09-27</td>\n",
       "      <td>86f2416d4670e4ea3ca5494d043d9f24</td>\n",
       "      <td>moveis_escritorio</td>\n",
       "      <td>office_furniture</td>\n",
       "      <td>carapicuiba</td>\n",
       "      <td>SP</td>\n",
       "      <td>0</td>\n",
       "      <td>0</td>\n",
       "      <td>1</td>\n",
       "    </tr>\n",
       "  </tbody>\n",
       "</table>\n",
       "</div>"
      ],
      "text/plain": [
       "                           review_id                          order_id  \\\n",
       "6   373cbeecea8286a2b66c97b1b157ec46  583174fbe37d3d5f0d6661be3aad1786   \n",
       "23  3d94fd645cdaacc8c9f0dc0a2a1f5166  4d483bf690ca21bdc005df9b623673c7   \n",
       "35  e29ab4a671400c41322e4855de633c6a  17b296b73ebefd6213299342b09f097f   \n",
       "40  436f71c9cc0c1aab7f51dc0cd0820516  c676e726f8a14a9527b41b9dc50ca1bc   \n",
       "55  c422274e50e900b46fee429016c5458d  950bb159eea525ff8947b92c93b02f8e   \n",
       "\n",
       "    review_score     review_comment_title review_comment_message  \\\n",
       "6              1  Não chegou meu produto                 Péssimo   \n",
       "23             5                      NaN                    boa   \n",
       "35             5                      NaN              Maravilha   \n",
       "40             5                      NaN             Satisfeito   \n",
       "55             3                      NaN                 Gostei   \n",
       "\n",
       "                         customer_id order_delivered_customer_date  \\\n",
       "6   e545e697bb9d1b81e0a702121d4e94d5                           NaT   \n",
       "23  80a6a8b570864a52a54462d82b6fb51f           2017-03-20 10:32:31   \n",
       "35  4d31792c00baf91319f111857058ee80           2017-08-08 19:27:12   \n",
       "40  2ca78d68b23aa3531eb8c29f55194c4e           2017-11-21 21:07:03   \n",
       "55  ff299a256be6affac0ae1207c1b4a9b8           2017-09-23 17:09:13   \n",
       "\n",
       "   order_estimated_delivery_date                        product_id  \\\n",
       "6                     2018-08-13  55a1e3d39ace9c0b217f6c30b04d43c0   \n",
       "23                    2017-04-04  18d307d967bbf1300aa00b34f34c374c   \n",
       "35                    2017-08-11  f7f59e6186e10983a061ac7bdb3494d6   \n",
       "40                    2017-11-30  b694e2087c446e6905b08cd9360cfe45   \n",
       "55                    2017-09-27  86f2416d4670e4ea3ca5494d043d9f24   \n",
       "\n",
       "    product_category_name product_category_name_english        customer_city  \\\n",
       "6        malas_acessorios           luggage_accessories            guarulhos   \n",
       "23           beleza_saude                 health_beauty  santana de parnaiba   \n",
       "35  utilidades_domesticas                    housewares             campinas   \n",
       "40        cama_mesa_banho                bed_bath_table             campinas   \n",
       "55      moveis_escritorio              office_furniture          carapicuiba   \n",
       "\n",
       "   customer_state  delivery_late_ind  capitalize_ind  review_message_length  \n",
       "6              SP                  1               0                      1  \n",
       "23             SP                  0               0                      1  \n",
       "35             SP                  0               0                      1  \n",
       "40             SP                  0               0                      1  \n",
       "55             SP                  0               0                      1  "
      ]
     },
     "execution_count": 23,
     "metadata": {},
     "output_type": "execute_result"
    }
   ],
   "source": [
    "# Remove \"\\r\\n\"\n",
    "df['review_comment_message'] = df['review_comment_message'].replace(r'\\s+|\\\\n', '', regex=True) \n",
    "\n",
    "# Remove those with word count of 0\n",
    "df = df[~df['review_comment_message'].isnull()]\n",
    "df = df[df['review_comment_message'] != '']\n",
    "print(f'No. of messages with word count of 0: {len(df[df[\"review_message_length\"] <= 0])}')\n",
    "\n",
    "# View data samples\n",
    "df[df['review_message_length'] <= 1].head()"
   ]
  },
  {
   "cell_type": "markdown",
   "id": "7a86c804",
   "metadata": {},
   "source": [
    "## Product Categories"
   ]
  },
  {
   "cell_type": "code",
   "execution_count": 36,
   "id": "e44a9cc5",
   "metadata": {},
   "outputs": [
    {
     "data": {
      "text/plain": [
       "<AxesSubplot:ylabel='product_category_name_english'>"
      ]
     },
     "execution_count": 36,
     "metadata": {},
     "output_type": "execute_result"
    },
    {
     "data": {
      "image/png": "[encoded data removed]",
      "text/plain": [
       "<Figure size 432x288 with 1 Axes>"
      ]
     },
     "metadata": {
      "needs_background": "light"
     },
     "output_type": "display_data"
    }
   ],
   "source": [
    "# View distribution (Top 20)\n",
    "df.groupby('product_category_name_english')['review_comment_message'].count().sort_values().tail(20).plot(kind='barh')"
   ]
  },
  {
   "cell_type": "markdown",
   "id": "d0ea56e7",
   "metadata": {},
   "source": [
    "## Customer Cities"
   ]
  },
  {
   "cell_type": "code",
   "execution_count": 37,
   "id": "3c6e49d0",
   "metadata": {},
   "outputs": [
    {
     "data": {
      "text/plain": [
       "<AxesSubplot:ylabel='customer_city'>"
      ]
     },
     "execution_count": 37,
     "metadata": {},
     "output_type": "execute_result"
    },
    {
     "data": {
      "image/png": "[encoded data removed]",
      "text/plain": [
       "<Figure size 432x288 with 1 Axes>"
      ]
     },
     "metadata": {
      "needs_background": "light"
     },
     "output_type": "display_data"
    }
   ],
   "source": [
    "# View distribution\n",
    "df.groupby('customer_city')['review_comment_message'].count().sort_values().tail(10).plot(kind='barh')"
   ]
  },
  {
   "cell_type": "markdown",
   "id": "731cea5d",
   "metadata": {},
   "source": [
    "## Customer States"
   ]
  },
  {
   "cell_type": "code",
   "execution_count": 38,
   "id": "eb363ee6",
   "metadata": {},
   "outputs": [
    {
     "data": {
      "text/plain": [
       "<AxesSubplot:ylabel='customer_state'>"
      ]
     },
     "execution_count": 38,
     "metadata": {},
     "output_type": "execute_result"
    },
    {
     "data": {
      "image/png": "[encoded data removed]",
      "text/plain": [
       "<Figure size 432x288 with 1 Axes>"
      ]
     },
     "metadata": {
      "needs_background": "light"
     },
     "output_type": "display_data"
    }
   ],
   "source": [
    "# View distribution\n",
    "df.groupby('customer_state')['review_comment_message'].count().sort_values().tail(10).plot(kind='barh')"
   ]
  },
  {
   "cell_type": "markdown",
   "id": "7d7a44fd",
   "metadata": {},
   "source": [
    "## Review Scores"
   ]
  },
  {
   "cell_type": "code",
   "execution_count": 41,
   "id": "a3797302",
   "metadata": {},
   "outputs": [
    {
     "data": {
      "text/plain": [
       "<AxesSubplot:xlabel='review_score'>"
      ]
     },
     "execution_count": 41,
     "metadata": {},
     "output_type": "execute_result"
    },
    {
     "data": {
      "image/png": "[encoded data removed]",
      "text/plain": [
       "<Figure size 432x288 with 1 Axes>"
      ]
     },
     "metadata": {
      "needs_background": "light"
     },
     "output_type": "display_data"
    }
   ],
   "source": [
    "# View distribution\n",
    "df.groupby('review_score')['review_comment_message'].count().sort_index().plot(kind='bar')"
   ]
  },
  {
   "cell_type": "code",
   "execution_count": 43,
   "id": "e8e149a6",
   "metadata": {},
   "outputs": [
    {
     "name": "stdout",
     "output_type": "stream",
     "text": [
      "1    0.648483\n",
      "0    0.351517\n",
      "Name: positive_review_ind, dtype: float64\n"
     ]
    },
    {
     "data": {
      "text/plain": [
       "<AxesSubplot:xlabel='positive_review_ind'>"
      ]
     },
     "execution_count": 43,
     "metadata": {},
     "output_type": "execute_result"
    },
    {
     "data": {
      "image/png": "[encoded data removed]",
      "text/plain": [
       "<Figure size 432x288 with 1 Axes>"
      ]
     },
     "metadata": {
      "needs_background": "light"
     },
     "output_type": "display_data"
    }
   ],
   "source": [
    "# Creating the response variable\n",
    "df['positive_review_ind'] = 0\n",
    "df.loc[df['review_score'] >= 4, 'positive_review_ind'] = 1\n",
    "\n",
    "# View distribution\n",
    "print(df['positive_review_ind'].value_counts(normalize=True))\n",
    "df.groupby('positive_review_ind')['review_comment_message'].count().sort_index().plot(kind='bar')"
   ]
  },
  {
   "cell_type": "markdown",
   "id": "ec1097f8",
   "metadata": {},
   "source": [
    "## Breakdown of Attributes in terms of Review Scores"
   ]
  },
  {
   "cell_type": "code",
   "execution_count": 54,
   "id": "6ce2039d",
   "metadata": {
    "scrolled": true
   },
   "outputs": [
    {
     "name": "stdout",
     "output_type": "stream",
     "text": [
      "product_category_name_english\n",
      "Review Count\n",
      "AxesSubplot(0.125,0.125;0.775x0.755)\n"
     ]
    },
    {
     "data": {
      "image/png": "[encoded data removed]",
      "text/plain": [
       "<Figure size 432x288 with 1 Axes>"
      ]
     },
     "metadata": {
      "needs_background": "light"
     },
     "output_type": "display_data"
    },
    {
     "name": "stdout",
     "output_type": "stream",
     "text": [
      "Average Positive Sentiment Mix\n",
      "AxesSubplot(0.125,0.125;0.775x0.755)\n"
     ]
    },
    {
     "data": {
      "image/png": "[encoded data removed]",
      "text/plain": [
       "<Figure size 432x288 with 1 Axes>"
      ]
     },
     "metadata": {
      "needs_background": "light"
     },
     "output_type": "display_data"
    },
    {
     "name": "stdout",
     "output_type": "stream",
     "text": [
      "customer_city\n",
      "Review Count\n",
      "AxesSubplot(0.125,0.125;0.775x0.755)\n"
     ]
    },
    {
     "data": {
      "image/png": "[encoded data removed]",
      "text/plain": [
       "<Figure size 432x288 with 1 Axes>"
      ]
     },
     "metadata": {
      "needs_background": "light"
     },
     "output_type": "display_data"
    },
    {
     "name": "stdout",
     "output_type": "stream",
     "text": [
      "Average Positive Sentiment Mix\n",
      "AxesSubplot(0.125,0.125;0.775x0.755)\n"
     ]
    },
    {
     "data": {
      "image/png": "[encoded data removed]",
      "text/plain": [
       "<Figure size 432x288 with 1 Axes>"
      ]
     },
     "metadata": {
      "needs_background": "light"
     },
     "output_type": "display_data"
    },
    {
     "name": "stdout",
     "output_type": "stream",
     "text": [
      "customer_state\n",
      "Review Count\n",
      "AxesSubplot(0.125,0.125;0.775x0.755)\n"
     ]
    },
    {
     "data": {
      "image/png": "[encoded data removed]",
      "text/plain": [
       "<Figure size 432x288 with 1 Axes>"
      ]
     },
     "metadata": {
      "needs_background": "light"
     },
     "output_type": "display_data"
    },
    {
     "name": "stdout",
     "output_type": "stream",
     "text": [
      "Average Positive Sentiment Mix\n",
      "AxesSubplot(0.125,0.125;0.775x0.755)\n"
     ]
    },
    {
     "data": {
      "image/png": "[encoded data removed]",
      "text/plain": [
       "<Figure size 432x288 with 1 Axes>"
      ]
     },
     "metadata": {
      "needs_background": "light"
     },
     "output_type": "display_data"
    },
    {
     "name": "stdout",
     "output_type": "stream",
     "text": [
      "delivery_late_ind\n",
      "Review Count\n",
      "AxesSubplot(0.125,0.125;0.775x0.755)\n"
     ]
    },
    {
     "data": {
      "image/png": "[encoded data removed]",
      "text/plain": [
       "<Figure size 432x288 with 1 Axes>"
      ]
     },
     "metadata": {
      "needs_background": "light"
     },
     "output_type": "display_data"
    },
    {
     "name": "stdout",
     "output_type": "stream",
     "text": [
      "Average Positive Sentiment Mix\n",
      "AxesSubplot(0.125,0.125;0.775x0.755)\n"
     ]
    },
    {
     "data": {
      "image/png": "[encoded data removed]",
      "text/plain": [
       "<Figure size 432x288 with 1 Axes>"
      ]
     },
     "metadata": {
      "needs_background": "light"
     },
     "output_type": "display_data"
    },
    {
     "name": "stdout",
     "output_type": "stream",
     "text": [
      "review_message_length\n",
      "Review Count\n",
      "AxesSubplot(0.125,0.125;0.775x0.755)\n"
     ]
    },
    {
     "data": {
      "image/png": "[encoded data removed]",
      "text/plain": [
       "<Figure size 432x288 with 1 Axes>"
      ]
     },
     "metadata": {
      "needs_background": "light"
     },
     "output_type": "display_data"
    },
    {
     "name": "stdout",
     "output_type": "stream",
     "text": [
      "Average Positive Sentiment Mix\n",
      "AxesSubplot(0.125,0.125;0.775x0.755)\n"
     ]
    },
    {
     "data": {
      "image/png": "[encoded data removed]",
      "text/plain": [
       "<Figure size 432x288 with 1 Axes>"
      ]
     },
     "metadata": {
      "needs_background": "light"
     },
     "output_type": "display_data"
    },
    {
     "name": "stdout",
     "output_type": "stream",
     "text": [
      "capitalize_ind\n",
      "Review Count\n",
      "AxesSubplot(0.125,0.125;0.775x0.755)\n"
     ]
    },
    {
     "data": {
      "image/png": "[encoded data removed]",
      "text/plain": [
       "<Figure size 432x288 with 1 Axes>"
      ]
     },
     "metadata": {
      "needs_background": "light"
     },
     "output_type": "display_data"
    },
    {
     "name": "stdout",
     "output_type": "stream",
     "text": [
      "Average Positive Sentiment Mix\n",
      "AxesSubplot(0.125,0.125;0.775x0.755)\n"
     ]
    },
    {
     "data": {
      "image/png": "[encoded data removed]",
      "text/plain": [
       "<Figure size 432x288 with 1 Axes>"
      ]
     },
     "metadata": {
      "needs_background": "light"
     },
     "output_type": "display_data"
    }
   ],
   "source": [
    "# List of attributes\n",
    "attribute_list = ['product_category_name_english', 'customer_city', 'customer_state', \n",
    "                  'delivery_late_ind', 'review_message_length', 'capitalize_ind']\n",
    "\n",
    "for att in attribute_list:\n",
    "    \n",
    "    # Show distribution\n",
    "    print(att)\n",
    "    print('Review Count')\n",
    "    print(df.groupby(att)['positive_review_ind'].count().sort_values().tail(10).plot(kind='barh'))\n",
    "    plt.show()\n",
    "    \n",
    "    print('Average Positive Sentiment Mix')\n",
    "    print(df.groupby(att)['positive_review_ind'].mean().sort_values().tail(10).plot(kind='barh'))\n",
    "    plt.show()\n",
    "    \n",
    "# From the charts below, the review message tends to be positive if:\n",
    "# a. Review message is shorter\n",
    "# b. Delivery is on time or earlier\n",
    "# c. Smaller populated cities as top cities (with most review count) are nowhere on top 10 with most positive reviews\n",
    "\n",
    "# Given that the only input would be the review text message itself\n",
    "# Thus, the city and product category will not be focused\n",
    "# However, these features will help enhance our understanding of the data"
   ]
  },
  {
   "cell_type": "markdown",
   "id": "8a96d72f",
   "metadata": {},
   "source": [
    "# Data Preparation"
   ]
  },
  {
   "cell_type": "markdown",
   "id": "73f3c722",
   "metadata": {},
   "source": [
    "This section is focused on preparing the dataset based on the content of the comments itself, along with other relevant attributes disclosed above."
   ]
  },
  {
   "cell_type": "code",
   "execution_count": 21,
   "id": "521c40f7",
   "metadata": {},
   "outputs": [],
   "source": [
    "# Create the tokenizer function to extract tokens for Tfidf transformer after this\n",
    "def tokenizer(text):\n",
    "    # Remove punctuations \n",
    "    detected_punctuations = re.findall('[^a-zA-Z0-9]', text)\n",
    "    for punctuation in detected_punctuations:\n",
    "        text = text.replace(punctuation, ' ')\n",
    "        \n",
    "    # Remove words with single letters\n",
    "    text = ' '.join([w for w in text.split() if len(w) > 1])\n",
    "        \n",
    "    # Tokenize the words\n",
    "    tokens = word_tokenize(text)    \n",
    "    \n",
    "    # Lemmanitizer to reduce words to its stems\n",
    "    lemmatizer = WordNetLemmatizer()\n",
    "\n",
    "    # List of clean tokens\n",
    "    clean_tokens = [lemmatizer.lemmatize(w).lower().strip() for w in tokens]\n",
    "    \n",
    "    # Remove stopwords in Portugese\n",
    "    por_stopwords = stopwords.words('portuguese')\n",
    "    for st in por_stopwords:\n",
    "        if st in clean_tokens:\n",
    "            clean_tokens.remove(st)\n",
    "            \n",
    "    return clean_tokens"
   ]
  },
  {
   "cell_type": "markdown",
   "id": "f9f70aee",
   "metadata": {},
   "source": [
    "Word cloud or bar charts of top 10 words for both sentiments"
   ]
  },
  {
   "cell_type": "markdown",
   "id": "0f697d9f",
   "metadata": {},
   "source": [
    "# Model Training"
   ]
  },
  {
   "cell_type": "code",
   "execution_count": 23,
   "id": "a626d63b",
   "metadata": {},
   "outputs": [],
   "source": [
    "# Create the predictor and response datasets\n",
    "X = df['review_comment_message']\n",
    "y = df['positive_review_ind']\n",
    "\n",
    "# Separate into train and test datasets\n",
    "X_train, X_test, y_train, y_test = train_test_split(X, y, test_size=0.25, random_state=23)"
   ]
  },
  {
   "cell_type": "code",
   "execution_count": 24,
   "id": "e6521225",
   "metadata": {
    "scrolled": true
   },
   "outputs": [],
   "source": [
    "# Based on attributes observed earlier, longer comments tend to associate with negative sentiments (lower review score)\n",
    "class GetReviewLength(BaseEstimator, TransformerMixin):\n",
    "    def fit(self, X, y=None):\n",
    "        return self\n",
    "\n",
    "    def transform(self, X):\n",
    "        X_len = pd.Series(X).apply(lambda x: len(x.split()))\n",
    "        return pd.DataFrame(X_len)"
   ]
  },
  {
   "cell_type": "code",
   "execution_count": 25,
   "id": "b9754392",
   "metadata": {
    "scrolled": true
   },
   "outputs": [
    {
     "name": "stderr",
     "output_type": "stream",
     "text": [
      "[Parallel(n_jobs=-1)]: Using backend ThreadingBackend with 8 concurrent workers.\n"
     ]
    },
    {
     "name": "stdout",
     "output_type": "stream",
     "text": [
      "building tree 1 of 100building tree 2 of 100building tree 3 of 100building tree 4 of 100\n",
      "\n",
      "\n",
      "building tree 5 of 100\n",
      "building tree 6 of 100\n",
      "building tree 7 of 100\n",
      "\n",
      "building tree 8 of 100\n",
      "building tree 9 of 100\n",
      "building tree 10 of 100\n",
      "building tree 11 of 100\n",
      "building tree 12 of 100\n",
      "building tree 13 of 100\n",
      "building tree 14 of 100\n",
      "building tree 15 of 100\n",
      "building tree 16 of 100\n",
      "building tree 17 of 100\n",
      "building tree 18 of 100\n",
      "building tree 19 of 100\n",
      "building tree 20 of 100\n",
      "building tree 21 of 100\n",
      "building tree 22 of 100\n",
      "building tree 23 of 100\n",
      "building tree 24 of 100\n",
      "building tree 25 of 100\n",
      "building tree 26 of 100\n",
      "building tree 27 of 100\n",
      "building tree 28 of 100\n",
      "building tree 29 of 100\n",
      "building tree 30 of 100\n",
      "building tree 31 of 100\n",
      "building tree 32 of 100\n",
      "building tree 33 of 100\n",
      "building tree 34 of 100\n"
     ]
    },
    {
     "name": "stderr",
     "output_type": "stream",
     "text": [
      "[Parallel(n_jobs=-1)]: Done  25 tasks      | elapsed:    5.6s\n"
     ]
    },
    {
     "name": "stdout",
     "output_type": "stream",
     "text": [
      "building tree 35 of 100\n",
      "building tree 36 of 100\n",
      "building tree 37 of 100\n",
      "building tree 38 of 100\n",
      "building tree 39 of 100\n",
      "building tree 40 of 100\n",
      "building tree 41 of 100\n",
      "building tree 42 of 100\n",
      "building tree 43 of 100\n",
      "building tree 44 of 100\n",
      "building tree 45 of 100\n",
      "building tree 46 of 100\n",
      "building tree 47 of 100\n",
      "building tree 48 of 100\n",
      "building tree 49 of 100\n",
      "building tree 50 of 100\n",
      "building tree 51 of 100\n",
      "building tree 52 of 100\n",
      "building tree 53 of 100\n",
      "building tree 54 of 100\n",
      "building tree 55 of 100\n",
      "building tree 56 of 100\n",
      "building tree 57 of 100\n",
      "building tree 58 of 100\n",
      "building tree 59 of 100\n",
      "building tree 60 of 100\n",
      "building tree 61 of 100\n",
      "building tree 62 of 100\n",
      "building tree 63 of 100\n",
      "building tree 64 of 100\n",
      "building tree 65 of 100\n",
      "building tree 66 of 100\n",
      "building tree 67 of 100\n",
      "building tree 68 of 100\n",
      "building tree 69 of 100\n",
      "building tree 70 of 100\n",
      "building tree 71 of 100\n",
      "building tree 72 of 100\n",
      "building tree 73 of 100\n",
      "building tree 74 of 100\n",
      "building tree 75 of 100\n",
      "building tree 76 of 100\n",
      "building tree 77 of 100\n",
      "building tree 78 of 100\n",
      "building tree 79 of 100\n",
      "building tree 80 of 100\n",
      "building tree 81 of 100\n",
      "building tree 82 of 100\n",
      "building tree 83 of 100\n",
      "building tree 84 of 100\n",
      "building tree 85 of 100\n",
      "building tree 86 of 100\n",
      "building tree 87 of 100\n",
      "building tree 88 of 100\n",
      "building tree 89 of 100\n",
      "building tree 90 of 100\n",
      "building tree 91 of 100\n",
      "building tree 92 of 100\n",
      "building tree 93 of 100\n",
      "building tree 94 of 100\n",
      "building tree 95 of 100\n",
      "building tree 96 of 100\n",
      "building tree 97 of 100\n",
      "building tree 98 of 100\n",
      "building tree 99 of 100\n",
      "building tree 100 of 100\n"
     ]
    },
    {
     "name": "stderr",
     "output_type": "stream",
     "text": [
      "[Parallel(n_jobs=-1)]: Done 100 out of 100 | elapsed:   18.0s finished\n"
     ]
    },
    {
     "data": {
      "text/plain": [
       "Pipeline(steps=[('features',\n",
       "                 FeatureUnion(transformer_list=[('text_pipeline',\n",
       "                                                 Pipeline(steps=[('vect',\n",
       "                                                                  CountVectorizer(tokenizer=<function tokenizer at 0x0000021351B8D8B0>)),\n",
       "                                                                 ('tfidf',\n",
       "                                                                  TfidfTransformer())])),\n",
       "                                                ('review_length',\n",
       "                                                 GetReviewLength())])),\n",
       "                ('clf', RandomForestClassifier(n_jobs=-1, verbose=2))])"
      ]
     },
     "execution_count": 25,
     "metadata": {},
     "output_type": "execute_result"
    }
   ],
   "source": [
    "# Create ML pipeline - Random Forest\n",
    "pipeline = Pipeline([\n",
    "        ('features', FeatureUnion([\n",
    "\n",
    "            ('text_pipeline', Pipeline([\n",
    "                ('vect', CountVectorizer(tokenizer=tokenizer)),\n",
    "                ('tfidf', TfidfTransformer())\n",
    "            ])),\n",
    "\n",
    "            ('review_length', GetReviewLength())\n",
    "        ])),\n",
    "\n",
    "        ('clf', RandomForestClassifier(n_jobs=-1, verbose=2)) # Use all processors\n",
    "    ])\n",
    "\n",
    "# Train the model using grid search\n",
    "pipeline.fit(X_train, y_train)"
   ]
  },
  {
   "cell_type": "code",
   "execution_count": 26,
   "id": "ba5ebebf",
   "metadata": {},
   "outputs": [
    {
     "data": {
      "text/plain": [
       "Pipeline(steps=[('features',\n",
       "                 FeatureUnion(transformer_list=[('text_pipeline',\n",
       "                                                 Pipeline(steps=[('vect',\n",
       "                                                                  CountVectorizer(tokenizer=<function tokenizer at 0x0000021351B8D8B0>)),\n",
       "                                                                 ('tfidf',\n",
       "                                                                  TfidfTransformer())])),\n",
       "                                                ('review_length',\n",
       "                                                 GetReviewLength())])),\n",
       "                ('clf', AdaBoostClassifier())])"
      ]
     },
     "execution_count": 26,
     "metadata": {},
     "output_type": "execute_result"
    }
   ],
   "source": [
    "# Create ML pipeline - AdaBoost\n",
    "pipeline2 = Pipeline([\n",
    "        ('features', FeatureUnion([\n",
    "\n",
    "            ('text_pipeline', Pipeline([\n",
    "                ('vect', CountVectorizer(tokenizer=tokenizer)),\n",
    "                ('tfidf', TfidfTransformer())\n",
    "            ])),\n",
    "\n",
    "            ('review_length', GetReviewLength())\n",
    "        ])),\n",
    "\n",
    "        ('clf', AdaBoostClassifier())\n",
    "    ])\n",
    "\n",
    "# Train the model using grid search\n",
    "pipeline2.fit(X_train, y_train)"
   ]
  },
  {
   "cell_type": "code",
   "execution_count": 28,
   "id": "4cc1d224",
   "metadata": {},
   "outputs": [
    {
     "name": "stdout",
     "output_type": "stream",
     "text": [
      "      Iter       Train Loss   Remaining Time \n",
      "         1           1.2512           52.10s\n",
      "         2           1.2102           51.36s\n",
      "         3           1.1782           46.57s\n",
      "         4           1.1496           44.63s\n",
      "         5           1.1250           42.66s\n",
      "         6           1.1051           41.51s\n",
      "         7           1.0866           40.15s\n",
      "         8           1.0714           39.10s\n",
      "         9           1.0554           38.32s\n",
      "        10           1.0410           38.05s\n",
      "        11           1.0289           37.21s\n",
      "        12           1.0157           36.56s\n",
      "        13           1.0062           35.83s\n",
      "        14           0.9963           35.24s\n",
      "        15           0.9851           34.73s\n",
      "        16           0.9753           34.00s\n",
      "        17           0.9670           33.50s\n",
      "        18           0.9598           33.03s\n",
      "        19           0.9521           32.53s\n",
      "        20           0.9459           32.01s\n",
      "        21           0.9395           31.45s\n",
      "        22           0.9324           31.04s\n",
      "        23           0.9275           30.92s\n",
      "        24           0.9213           30.78s\n",
      "        25           0.9165           30.68s\n",
      "        26           0.9114           30.40s\n",
      "        27           0.9065           29.97s\n",
      "        28           0.9025           29.55s\n",
      "        29           0.8973           29.27s\n",
      "        30           0.8934           29.02s\n",
      "        31           0.8891           28.72s\n",
      "        32           0.8838           28.48s\n",
      "        33           0.8796           28.17s\n",
      "        34           0.8757           27.85s\n",
      "        35           0.8718           27.52s\n",
      "        36           0.8689           27.19s\n",
      "        37           0.8657           26.87s\n",
      "        38           0.8621           26.51s\n",
      "        39           0.8596           26.16s\n",
      "        40           0.8563           25.79s\n",
      "        41           0.8527           25.32s\n",
      "        42           0.8491           24.80s\n",
      "        43           0.8462           24.31s\n",
      "        44           0.8437           23.81s\n",
      "        45           0.8410           23.35s\n",
      "        46           0.8384           22.86s\n",
      "        47           0.8356           22.38s\n",
      "        48           0.8330           21.91s\n",
      "        49           0.8305           21.40s\n",
      "        50           0.8278           20.76s\n",
      "        51           0.8260           20.19s\n",
      "        52           0.8231           19.73s\n",
      "        53           0.8212           19.29s\n",
      "        54           0.8186           18.85s\n",
      "        55           0.8162           18.41s\n",
      "        56           0.8144           17.97s\n",
      "        57           0.8125           17.53s\n",
      "        58           0.8097           17.10s\n",
      "        59           0.8071           16.57s\n",
      "        60           0.8050           16.06s\n",
      "        61           0.8031           15.64s\n",
      "        62           0.8014           15.25s\n",
      "        63           0.7997           14.85s\n",
      "        64           0.7972           14.44s\n",
      "        65           0.7953           14.03s\n",
      "        66           0.7938           13.63s\n",
      "        67           0.7918           13.22s\n",
      "        68           0.7897           12.82s\n",
      "        69           0.7881           12.41s\n",
      "        70           0.7867           12.04s\n",
      "        71           0.7852           11.67s\n",
      "        72           0.7840           11.29s\n",
      "        73           0.7821           10.92s\n",
      "        74           0.7807           10.53s\n",
      "        75           0.7789           10.16s\n",
      "        76           0.7777            9.78s\n",
      "        77           0.7759            9.40s\n",
      "        78           0.7736            9.02s\n",
      "        79           0.7719            8.63s\n",
      "        80           0.7699            8.24s\n",
      "        81           0.7688            7.84s\n",
      "        82           0.7670            7.42s\n",
      "        83           0.7659            6.96s\n",
      "        84           0.7647            6.53s\n",
      "        85           0.7635            6.12s\n",
      "        86           0.7620            5.71s\n",
      "        87           0.7604            5.29s\n",
      "        88           0.7589            4.88s\n",
      "        89           0.7576            4.47s\n",
      "        90           0.7564            4.06s\n",
      "        91           0.7553            3.65s\n",
      "        92           0.7542            3.23s\n",
      "        93           0.7531            2.83s\n",
      "        94           0.7519            2.42s\n",
      "        95           0.7500            2.02s\n",
      "        96           0.7484            1.61s\n",
      "        97           0.7474            1.21s\n",
      "        98           0.7459            0.80s\n",
      "        99           0.7444            0.40s\n",
      "       100           0.7433            0.00s\n"
     ]
    },
    {
     "data": {
      "text/plain": [
       "Pipeline(steps=[('features',\n",
       "                 FeatureUnion(transformer_list=[('text_pipeline',\n",
       "                                                 Pipeline(steps=[('vect',\n",
       "                                                                  CountVectorizer(tokenizer=<function tokenizer at 0x0000021351B8D8B0>)),\n",
       "                                                                 ('tfidf',\n",
       "                                                                  TfidfTransformer())])),\n",
       "                                                ('review_length',\n",
       "                                                 GetReviewLength())])),\n",
       "                ('clf', GradientBoostingClassifier(verbose=2))])"
      ]
     },
     "execution_count": 28,
     "metadata": {},
     "output_type": "execute_result"
    }
   ],
   "source": [
    "# Create ML pipeline - Gradient Boosting\n",
    "pipeline3 = Pipeline([\n",
    "        ('features', FeatureUnion([\n",
    "\n",
    "            ('text_pipeline', Pipeline([\n",
    "                ('vect', CountVectorizer(tokenizer=tokenizer)),\n",
    "                ('tfidf', TfidfTransformer())\n",
    "            ])),\n",
    "\n",
    "            ('review_length', GetReviewLength())\n",
    "        ])),\n",
    "\n",
    "        ('clf', GradientBoostingClassifier(verbose=2))\n",
    "    ])\n",
    "\n",
    "# Train the model using grid search\n",
    "pipeline3.fit(X_train, y_train)"
   ]
  },
  {
   "cell_type": "code",
   "execution_count": 33,
   "id": "b26901df",
   "metadata": {
    "scrolled": true
   },
   "outputs": [
    {
     "name": "stdout",
     "output_type": "stream",
     "text": [
      "Iteration 1, loss = 0.46827144\n",
      "Iteration 2, loss = 0.29535110\n",
      "Iteration 3, loss = 0.25586749\n",
      "Iteration 4, loss = 0.23336080\n",
      "Iteration 5, loss = 0.21872221\n",
      "Iteration 6, loss = 0.20711621\n",
      "Iteration 7, loss = 0.19723907\n",
      "Iteration 8, loss = 0.18996318\n",
      "Iteration 9, loss = 0.18353546\n",
      "Iteration 10, loss = 0.17786924\n",
      "Iteration 11, loss = 0.17286173\n",
      "Iteration 12, loss = 0.17016895\n",
      "Iteration 13, loss = 0.16646619\n",
      "Iteration 14, loss = 0.16284918\n",
      "Iteration 15, loss = 0.15871599\n",
      "Iteration 16, loss = 0.15720155\n",
      "Iteration 17, loss = 0.15458850\n",
      "Iteration 18, loss = 0.15201395\n",
      "Iteration 19, loss = 0.14917835\n",
      "Iteration 20, loss = 0.14775034\n",
      "Iteration 21, loss = 0.14512442\n",
      "Iteration 22, loss = 0.14341034\n",
      "Iteration 23, loss = 0.14214968\n",
      "Iteration 24, loss = 0.13979895\n",
      "Iteration 25, loss = 0.13792400\n",
      "Iteration 26, loss = 0.13625243\n",
      "Iteration 27, loss = 0.13441570\n",
      "Iteration 28, loss = 0.13277934\n",
      "Iteration 29, loss = 0.12986178\n",
      "Iteration 30, loss = 0.12823776\n",
      "Iteration 31, loss = 0.12804123\n",
      "Iteration 32, loss = 0.12492805\n",
      "Iteration 33, loss = 0.12424779\n",
      "Iteration 34, loss = 0.12169173\n",
      "Iteration 35, loss = 0.12041274\n",
      "Iteration 36, loss = 0.11882676\n",
      "Iteration 37, loss = 0.11752529\n",
      "Iteration 38, loss = 0.11569940\n",
      "Iteration 39, loss = 0.11409542\n",
      "Iteration 40, loss = 0.11299994\n",
      "Iteration 41, loss = 0.11116842\n",
      "Iteration 42, loss = 0.10951875\n",
      "Iteration 43, loss = 0.10852156\n",
      "Iteration 44, loss = 0.10768423\n",
      "Iteration 45, loss = 0.10642318\n",
      "Iteration 46, loss = 0.10466856\n",
      "Iteration 47, loss = 0.10402096\n",
      "Iteration 48, loss = 0.10314599\n",
      "Iteration 49, loss = 0.10108161\n",
      "Iteration 50, loss = 0.10074036\n",
      "Iteration 51, loss = 0.09968344\n",
      "Iteration 52, loss = 0.09787215\n",
      "Iteration 53, loss = 0.09702996\n",
      "Iteration 54, loss = 0.09567301\n",
      "Iteration 55, loss = 0.09489855\n",
      "Iteration 56, loss = 0.09343797\n",
      "Iteration 57, loss = 0.09259652\n",
      "Iteration 58, loss = 0.09208898\n",
      "Iteration 59, loss = 0.09078065\n",
      "Iteration 60, loss = 0.09031190\n",
      "Iteration 61, loss = 0.08965467\n",
      "Iteration 62, loss = 0.08883232\n",
      "Iteration 63, loss = 0.08910690\n",
      "Iteration 64, loss = 0.08659260\n",
      "Iteration 65, loss = 0.08561452\n",
      "Iteration 66, loss = 0.08461943\n",
      "Iteration 67, loss = 0.08407253\n",
      "Iteration 68, loss = 0.08298049\n",
      "Iteration 69, loss = 0.08306004\n",
      "Iteration 70, loss = 0.08185614\n",
      "Iteration 71, loss = 0.08138212\n",
      "Iteration 72, loss = 0.08061875\n",
      "Iteration 73, loss = 0.07977221\n",
      "Iteration 74, loss = 0.07962560\n",
      "Iteration 75, loss = 0.07877310\n",
      "Iteration 76, loss = 0.07781672\n",
      "Iteration 77, loss = 0.07742379\n",
      "Iteration 78, loss = 0.07647546\n",
      "Iteration 79, loss = 0.07597505\n",
      "Iteration 80, loss = 0.07488638\n",
      "Iteration 81, loss = 0.07481628\n",
      "Iteration 82, loss = 0.07410363\n",
      "Iteration 83, loss = 0.07426693\n",
      "Iteration 84, loss = 0.07328291\n",
      "Iteration 85, loss = 0.07228176\n",
      "Iteration 86, loss = 0.07181716\n",
      "Iteration 87, loss = 0.07158646\n",
      "Iteration 88, loss = 0.07078582\n",
      "Iteration 89, loss = 0.07027773\n",
      "Iteration 90, loss = 0.06998535\n",
      "Iteration 91, loss = 0.06994735\n",
      "Iteration 92, loss = 0.06982855\n",
      "Iteration 93, loss = 0.06934011\n",
      "Iteration 94, loss = 0.06853811\n",
      "Iteration 95, loss = 0.06726105\n",
      "Iteration 96, loss = 0.06671401\n",
      "Iteration 97, loss = 0.06760389\n",
      "Iteration 98, loss = 0.06664279\n",
      "Iteration 99, loss = 0.06584212\n",
      "Iteration 100, loss = 0.06545961\n",
      "Iteration 101, loss = 0.06512062\n",
      "Iteration 102, loss = 0.06519440\n",
      "Iteration 103, loss = 0.06454899\n",
      "Iteration 104, loss = 0.06416979\n",
      "Iteration 105, loss = 0.06426986\n",
      "Iteration 106, loss = 0.06355096\n",
      "Iteration 107, loss = 0.06316364\n",
      "Iteration 108, loss = 0.06396904\n",
      "Iteration 109, loss = 0.06270845\n",
      "Iteration 110, loss = 0.06231701\n",
      "Iteration 111, loss = 0.06168814\n",
      "Iteration 112, loss = 0.06136650\n",
      "Iteration 113, loss = 0.06134871\n",
      "Iteration 114, loss = 0.06084552\n",
      "Iteration 115, loss = 0.06208000\n",
      "Iteration 116, loss = 0.06074154\n",
      "Iteration 117, loss = 0.06061298\n",
      "Iteration 118, loss = 0.06013452\n",
      "Iteration 119, loss = 0.05972919\n",
      "Iteration 120, loss = 0.05983434\n",
      "Iteration 121, loss = 0.05917655\n",
      "Iteration 122, loss = 0.05897304\n",
      "Iteration 123, loss = 0.05882443\n",
      "Iteration 124, loss = 0.05868728\n",
      "Iteration 125, loss = 0.05856401\n",
      "Iteration 126, loss = 0.05802616\n",
      "Iteration 127, loss = 0.05835609\n",
      "Iteration 128, loss = 0.05809483\n",
      "Iteration 129, loss = 0.05786061\n",
      "Iteration 130, loss = 0.05740926\n",
      "Iteration 131, loss = 0.05728299\n",
      "Iteration 132, loss = 0.05749451\n",
      "Iteration 133, loss = 0.05758850\n",
      "Iteration 134, loss = 0.05698046\n",
      "Iteration 135, loss = 0.05684253\n",
      "Iteration 136, loss = 0.05647397\n",
      "Iteration 137, loss = 0.05588022\n",
      "Iteration 138, loss = 0.05610421\n",
      "Iteration 139, loss = 0.05563134\n",
      "Iteration 140, loss = 0.05533412\n",
      "Iteration 141, loss = 0.05517324\n",
      "Iteration 142, loss = 0.05503744\n",
      "Iteration 143, loss = 0.05565345\n",
      "Iteration 144, loss = 0.05541676\n",
      "Iteration 145, loss = 0.05500643\n",
      "Iteration 146, loss = 0.05474452\n",
      "Iteration 147, loss = 0.05496934\n",
      "Iteration 148, loss = 0.05478928\n",
      "Iteration 149, loss = 0.05449057\n",
      "Iteration 150, loss = 0.05416974\n",
      "Iteration 151, loss = 0.05405006\n",
      "Iteration 152, loss = 0.05389883\n",
      "Iteration 153, loss = 0.05367236\n",
      "Iteration 154, loss = 0.05360918\n",
      "Iteration 155, loss = 0.05363199\n",
      "Iteration 156, loss = 0.05352560\n",
      "Iteration 157, loss = 0.05372014\n",
      "Iteration 158, loss = 0.05337068\n",
      "Iteration 159, loss = 0.05286485\n",
      "Iteration 160, loss = 0.05284743\n",
      "Iteration 161, loss = 0.05279672\n",
      "Iteration 162, loss = 0.05301106\n",
      "Iteration 163, loss = 0.05312820\n",
      "Iteration 164, loss = 0.05232745\n",
      "Iteration 165, loss = 0.05254550\n",
      "Iteration 166, loss = 0.05237518\n",
      "Iteration 167, loss = 0.05231987\n",
      "Iteration 168, loss = 0.05268550\n",
      "Iteration 169, loss = 0.05233738\n",
      "Iteration 170, loss = 0.05229862\n",
      "Iteration 171, loss = 0.05185269\n",
      "Iteration 172, loss = 0.05173537\n",
      "Iteration 173, loss = 0.05184045\n",
      "Iteration 174, loss = 0.05289911\n",
      "Iteration 175, loss = 0.05138511\n",
      "Iteration 176, loss = 0.05126240\n",
      "Iteration 177, loss = 0.05162999\n",
      "Iteration 178, loss = 0.05121896\n",
      "Iteration 179, loss = 0.05091257\n",
      "Iteration 180, loss = 0.05071793\n",
      "Iteration 181, loss = 0.05186055\n",
      "Iteration 182, loss = 0.05110335\n",
      "Iteration 183, loss = 0.05100329\n",
      "Iteration 184, loss = 0.05109579\n",
      "Iteration 185, loss = 0.05076864\n",
      "Iteration 186, loss = 0.05137030\n",
      "Iteration 187, loss = 0.05103449\n",
      "Iteration 188, loss = 0.05080086\n",
      "Iteration 189, loss = 0.05088044\n",
      "Iteration 190, loss = 0.05042533\n",
      "Iteration 191, loss = 0.05023986\n",
      "Iteration 192, loss = 0.05020847\n",
      "Iteration 193, loss = 0.05028102\n",
      "Iteration 194, loss = 0.05011041\n",
      "Iteration 195, loss = 0.05015023\n",
      "Iteration 196, loss = 0.05008204\n",
      "Iteration 197, loss = 0.05077874\n",
      "Iteration 198, loss = 0.05009364\n",
      "Iteration 199, loss = 0.04988048\n",
      "Iteration 200, loss = 0.04989550\n"
     ]
    },
    {
     "name": "stderr",
     "output_type": "stream",
     "text": [
      "C:\\Users\\fucheng.liew\\Anaconda3\\lib\\site-packages\\sklearn\\neural_network\\_multilayer_perceptron.py:614: ConvergenceWarning: Stochastic Optimizer: Maximum iterations (200) reached and the optimization hasn't converged yet.\n",
      "  warnings.warn(\n"
     ]
    },
    {
     "data": {
      "text/plain": [
       "Pipeline(steps=[('features',\n",
       "                 FeatureUnion(transformer_list=[('text_pipeline',\n",
       "                                                 Pipeline(steps=[('vect',\n",
       "                                                                  CountVectorizer(tokenizer=<function tokenizer at 0x0000021351B8D8B0>)),\n",
       "                                                                 ('tfidf',\n",
       "                                                                  TfidfTransformer())])),\n",
       "                                                ('review_length',\n",
       "                                                 GetReviewLength())])),\n",
       "                ('clf', MLPClassifier(verbose=True))])"
      ]
     },
     "execution_count": 33,
     "metadata": {},
     "output_type": "execute_result"
    }
   ],
   "source": [
    "# Create ML pipeline - Neural Network\n",
    "pipeline4 = Pipeline([\n",
    "        ('features', FeatureUnion([\n",
    "\n",
    "            ('text_pipeline', Pipeline([\n",
    "                ('vect', CountVectorizer(tokenizer=tokenizer)),\n",
    "                ('tfidf', TfidfTransformer())\n",
    "            ])),\n",
    "\n",
    "            ('review_length', GetReviewLength())\n",
    "        ])),\n",
    "\n",
    "        ('clf', MLPClassifier(verbose=True))\n",
    "    ])\n",
    "\n",
    "# Train the model using grid search\n",
    "pipeline4.fit(X_train, y_train)"
   ]
  },
  {
   "cell_type": "code",
   "execution_count": 34,
   "id": "e4f8ba93",
   "metadata": {},
   "outputs": [
    {
     "name": "stderr",
     "output_type": "stream",
     "text": [
      "[Parallel(n_jobs=1)]: Using backend SequentialBackend with 1 concurrent workers.\n",
      "[Parallel(n_jobs=1)]: Done   1 out of   1 | elapsed:   56.0s remaining:    0.0s\n",
      "[Parallel(n_jobs=1)]: Done   5 out of   5 | elapsed:  4.4min finished\n",
      "[Parallel(n_jobs=1)]: Using backend SequentialBackend with 1 concurrent workers.\n",
      "[Parallel(n_jobs=1)]: Done   1 out of   1 | elapsed:   14.0s remaining:    0.0s\n",
      "[Parallel(n_jobs=1)]: Done   5 out of   5 | elapsed:  1.2min finished\n"
     ]
    },
    {
     "data": {
      "text/plain": [
       "Pipeline(steps=[('vect',\n",
       "                 CountVectorizer(tokenizer=<function tokenizer at 0x0000021351B8D8B0>)),\n",
       "                ('tfidf', TfidfTransformer()),\n",
       "                ('clf',\n",
       "                 StackingClassifier(estimators=[('rf',\n",
       "                                                 RandomForestClassifier()),\n",
       "                                                ('ab', AdaBoostClassifier())],\n",
       "                                    final_estimator=LogisticRegression(),\n",
       "                                    verbose=2))])"
      ]
     },
     "execution_count": 34,
     "metadata": {},
     "output_type": "execute_result"
    }
   ],
   "source": [
    "# For stacking ensemble classifier\n",
    "estimators = [\n",
    "    ('rf', RandomForestClassifier()), # Using the bagging technique\n",
    "    ('ab', AdaBoostClassifier()) # Using the boosting technique\n",
    "]\n",
    "\n",
    "# Create ML pipeline\n",
    "pipeline5 = Pipeline([\n",
    "        ('vect', CountVectorizer(tokenizer=tokenizer)),\n",
    "        ('tfidf', TfidfTransformer()),\n",
    "        ('clf', StackingClassifier(estimators=estimators, \n",
    "                                   final_estimator=LogisticRegression(),\n",
    "                                   verbose=2))\n",
    "    ])\n",
    "\n",
    "# Train pipeline\n",
    "pipeline5.fit(X_train, y_train)"
   ]
  },
  {
   "cell_type": "code",
   "execution_count": 35,
   "id": "74c7d279",
   "metadata": {},
   "outputs": [
    {
     "name": "stderr",
     "output_type": "stream",
     "text": [
      "[Parallel(n_jobs=-1)]: Using backend LokyBackend with 8 concurrent workers.\n",
      "[Parallel(n_jobs=-1)]: Done  25 tasks      | elapsed:   12.9s\n",
      "[Parallel(n_jobs=-1)]: Done 100 out of 100 | elapsed:   22.6s finished\n",
      "[Parallel(n_jobs=8)]: Using backend ThreadingBackend with 8 concurrent workers.\n",
      "[Parallel(n_jobs=8)]: Done  25 tasks      | elapsed:    0.0s\n",
      "[Parallel(n_jobs=8)]: Done 100 out of 100 | elapsed:    0.0s finished\n",
      "[Parallel(n_jobs=-1)]: Using backend LokyBackend with 8 concurrent workers.\n",
      "[Parallel(n_jobs=-1)]: Done  25 tasks      | elapsed:    2.5s\n",
      "[Parallel(n_jobs=-1)]: Done 100 out of 100 | elapsed:    8.5s finished\n",
      "[Parallel(n_jobs=8)]: Using backend ThreadingBackend with 8 concurrent workers.\n",
      "[Parallel(n_jobs=8)]: Done  25 tasks      | elapsed:    0.0s\n",
      "[Parallel(n_jobs=8)]: Done 100 out of 100 | elapsed:    0.0s finished\n",
      "[Parallel(n_jobs=-1)]: Using backend LokyBackend with 8 concurrent workers.\n",
      "[Parallel(n_jobs=-1)]: Done  25 tasks      | elapsed:    1.5s\n",
      "[Parallel(n_jobs=-1)]: Done 100 out of 100 | elapsed:    5.9s finished\n",
      "[Parallel(n_jobs=8)]: Using backend ThreadingBackend with 8 concurrent workers.\n",
      "[Parallel(n_jobs=8)]: Done  25 tasks      | elapsed:    0.0s\n",
      "[Parallel(n_jobs=8)]: Done 100 out of 100 | elapsed:    0.0s finished\n",
      "[Parallel(n_jobs=-1)]: Using backend LokyBackend with 8 concurrent workers.\n",
      "[Parallel(n_jobs=-1)]: Done  25 tasks      | elapsed:    2.5s\n",
      "[Parallel(n_jobs=-1)]: Done 100 out of 100 | elapsed:   10.8s finished\n",
      "[Parallel(n_jobs=8)]: Using backend ThreadingBackend with 8 concurrent workers.\n",
      "[Parallel(n_jobs=8)]: Done  25 tasks      | elapsed:    0.0s\n",
      "[Parallel(n_jobs=8)]: Done 100 out of 100 | elapsed:    0.0s finished\n",
      "[Parallel(n_jobs=-1)]: Using backend LokyBackend with 8 concurrent workers.\n",
      "[Parallel(n_jobs=-1)]: Done  25 tasks      | elapsed:    3.1s\n",
      "[Parallel(n_jobs=-1)]: Done 146 tasks      | elapsed:   16.1s\n",
      "[Parallel(n_jobs=-1)]: Done 200 out of 200 | elapsed:   20.8s finished\n",
      "[Parallel(n_jobs=8)]: Using backend ThreadingBackend with 8 concurrent workers.\n",
      "[Parallel(n_jobs=8)]: Done  25 tasks      | elapsed:    0.0s\n",
      "[Parallel(n_jobs=8)]: Done 146 tasks      | elapsed:    0.0s\n",
      "[Parallel(n_jobs=8)]: Done 200 out of 200 | elapsed:    0.1s finished\n",
      "[Parallel(n_jobs=-1)]: Using backend LokyBackend with 8 concurrent workers.\n",
      "[Parallel(n_jobs=-1)]: Done  25 tasks      | elapsed:    1.9s\n",
      "[Parallel(n_jobs=-1)]: Done 146 tasks      | elapsed:    9.7s\n",
      "[Parallel(n_jobs=-1)]: Done 200 out of 200 | elapsed:   12.9s finished\n",
      "[Parallel(n_jobs=8)]: Using backend ThreadingBackend with 8 concurrent workers.\n",
      "[Parallel(n_jobs=8)]: Done  25 tasks      | elapsed:    0.0s\n",
      "[Parallel(n_jobs=8)]: Done 146 tasks      | elapsed:    0.0s\n",
      "[Parallel(n_jobs=8)]: Done 200 out of 200 | elapsed:    0.0s finished\n",
      "[Parallel(n_jobs=-1)]: Using backend LokyBackend with 8 concurrent workers.\n",
      "[Parallel(n_jobs=-1)]: Done  25 tasks      | elapsed:    1.3s\n",
      "[Parallel(n_jobs=-1)]: Done 146 tasks      | elapsed:    9.4s\n",
      "[Parallel(n_jobs=-1)]: Done 200 out of 200 | elapsed:   13.7s finished\n",
      "[Parallel(n_jobs=8)]: Using backend ThreadingBackend with 8 concurrent workers.\n",
      "[Parallel(n_jobs=8)]: Done  25 tasks      | elapsed:    0.0s\n",
      "[Parallel(n_jobs=8)]: Done 146 tasks      | elapsed:    0.0s\n",
      "[Parallel(n_jobs=8)]: Done 200 out of 200 | elapsed:    0.1s finished\n",
      "[Parallel(n_jobs=-1)]: Using backend LokyBackend with 8 concurrent workers.\n",
      "[Parallel(n_jobs=-1)]: Done  25 tasks      | elapsed:    3.2s\n",
      "[Parallel(n_jobs=-1)]: Done 146 tasks      | elapsed:   17.8s\n",
      "[Parallel(n_jobs=-1)]: Done 200 out of 200 | elapsed:   23.3s finished\n",
      "[Parallel(n_jobs=8)]: Using backend ThreadingBackend with 8 concurrent workers.\n",
      "[Parallel(n_jobs=8)]: Done  25 tasks      | elapsed:    0.0s\n",
      "[Parallel(n_jobs=8)]: Done 146 tasks      | elapsed:    0.0s\n",
      "[Parallel(n_jobs=8)]: Done 200 out of 200 | elapsed:    0.0s finished\n",
      "[Parallel(n_jobs=-1)]: Using backend LokyBackend with 8 concurrent workers.\n",
      "[Parallel(n_jobs=-1)]: Done  25 tasks      | elapsed:    2.2s\n",
      "[Parallel(n_jobs=-1)]: Done 100 out of 100 | elapsed:    7.8s finished\n",
      "[Parallel(n_jobs=8)]: Using backend ThreadingBackend with 8 concurrent workers.\n",
      "[Parallel(n_jobs=8)]: Done  25 tasks      | elapsed:    0.0s\n",
      "[Parallel(n_jobs=8)]: Done 100 out of 100 | elapsed:    0.0s finished\n",
      "[Parallel(n_jobs=-1)]: Using backend LokyBackend with 8 concurrent workers.\n",
      "[Parallel(n_jobs=-1)]: Done  25 tasks      | elapsed:    1.4s\n",
      "[Parallel(n_jobs=-1)]: Done 100 out of 100 | elapsed:    5.0s finished\n",
      "[Parallel(n_jobs=8)]: Using backend ThreadingBackend with 8 concurrent workers.\n",
      "[Parallel(n_jobs=8)]: Done  25 tasks      | elapsed:    0.0s\n",
      "[Parallel(n_jobs=8)]: Done 100 out of 100 | elapsed:    0.0s finished\n",
      "[Parallel(n_jobs=-1)]: Using backend LokyBackend with 8 concurrent workers.\n",
      "[Parallel(n_jobs=-1)]: Done  25 tasks      | elapsed:    1.1s\n",
      "[Parallel(n_jobs=-1)]: Done 100 out of 100 | elapsed:    5.0s finished\n",
      "[Parallel(n_jobs=8)]: Using backend ThreadingBackend with 8 concurrent workers.\n",
      "[Parallel(n_jobs=8)]: Done  25 tasks      | elapsed:    0.0s\n",
      "[Parallel(n_jobs=8)]: Done 100 out of 100 | elapsed:    0.0s finished\n",
      "[Parallel(n_jobs=-1)]: Using backend LokyBackend with 8 concurrent workers.\n",
      "[Parallel(n_jobs=-1)]: Done  25 tasks      | elapsed:    2.6s\n",
      "[Parallel(n_jobs=-1)]: Done 100 out of 100 | elapsed:   10.0s finished\n",
      "[Parallel(n_jobs=8)]: Using backend ThreadingBackend with 8 concurrent workers.\n",
      "[Parallel(n_jobs=8)]: Done  25 tasks      | elapsed:    0.0s\n",
      "[Parallel(n_jobs=8)]: Done 100 out of 100 | elapsed:    0.0s finished\n",
      "[Parallel(n_jobs=-1)]: Using backend LokyBackend with 8 concurrent workers.\n",
      "[Parallel(n_jobs=-1)]: Done  25 tasks      | elapsed:    2.0s\n",
      "[Parallel(n_jobs=-1)]: Done 146 tasks      | elapsed:   11.0s\n",
      "[Parallel(n_jobs=-1)]: Done 200 out of 200 | elapsed:   14.1s finished\n",
      "[Parallel(n_jobs=8)]: Using backend ThreadingBackend with 8 concurrent workers.\n",
      "[Parallel(n_jobs=8)]: Done  25 tasks      | elapsed:    0.0s\n",
      "[Parallel(n_jobs=8)]: Done 146 tasks      | elapsed:    0.0s\n",
      "[Parallel(n_jobs=8)]: Done 200 out of 200 | elapsed:    0.0s finished\n",
      "[Parallel(n_jobs=-1)]: Using backend LokyBackend with 8 concurrent workers.\n",
      "[Parallel(n_jobs=-1)]: Done  25 tasks      | elapsed:    1.1s\n",
      "[Parallel(n_jobs=-1)]: Done 146 tasks      | elapsed:    7.2s\n",
      "[Parallel(n_jobs=-1)]: Done 200 out of 200 | elapsed:   10.3s finished\n",
      "[Parallel(n_jobs=8)]: Using backend ThreadingBackend with 8 concurrent workers.\n",
      "[Parallel(n_jobs=8)]: Done  25 tasks      | elapsed:    0.0s\n",
      "[Parallel(n_jobs=8)]: Done 146 tasks      | elapsed:    0.0s\n",
      "[Parallel(n_jobs=8)]: Done 200 out of 200 | elapsed:    0.0s finished\n",
      "[Parallel(n_jobs=-1)]: Using backend LokyBackend with 8 concurrent workers.\n",
      "[Parallel(n_jobs=-1)]: Done  25 tasks      | elapsed:    2.0s\n",
      "[Parallel(n_jobs=-1)]: Done 146 tasks      | elapsed:   12.9s\n",
      "[Parallel(n_jobs=-1)]: Done 200 out of 200 | elapsed:   17.9s finished\n",
      "[Parallel(n_jobs=8)]: Using backend ThreadingBackend with 8 concurrent workers.\n",
      "[Parallel(n_jobs=8)]: Done  25 tasks      | elapsed:    0.0s\n",
      "[Parallel(n_jobs=8)]: Done 146 tasks      | elapsed:    0.0s\n",
      "[Parallel(n_jobs=8)]: Done 200 out of 200 | elapsed:    0.1s finished\n",
      "[Parallel(n_jobs=-1)]: Using backend LokyBackend with 8 concurrent workers.\n",
      "[Parallel(n_jobs=-1)]: Done  25 tasks      | elapsed:    1.9s\n",
      "[Parallel(n_jobs=-1)]: Done 146 tasks      | elapsed:    9.1s\n",
      "[Parallel(n_jobs=-1)]: Done 200 out of 200 | elapsed:   12.4s finished\n",
      "[Parallel(n_jobs=8)]: Using backend ThreadingBackend with 8 concurrent workers.\n",
      "[Parallel(n_jobs=8)]: Done  25 tasks      | elapsed:    0.0s\n",
      "[Parallel(n_jobs=8)]: Done 146 tasks      | elapsed:    0.0s\n",
      "[Parallel(n_jobs=8)]: Done 200 out of 200 | elapsed:    0.0s finished\n",
      "[Parallel(n_jobs=-1)]: Using backend ThreadingBackend with 8 concurrent workers.\n"
     ]
    },
    {
     "name": "stdout",
     "output_type": "stream",
     "text": [
      "building tree 1 of 200building tree 2 of 200\n",
      "building tree 3 of 200\n",
      "building tree 4 of 200\n",
      "\n",
      "building tree 5 of 200\n",
      "building tree 6 of 200building tree 7 of 200\n",
      "\n",
      "building tree 8 of 200\n",
      "building tree 9 of 200\n",
      "building tree 10 of 200\n",
      "building tree 11 of 200\n",
      "building tree 12 of 200\n",
      "building tree 13 of 200\n",
      "building tree 14 of 200\n",
      "building tree 15 of 200\n",
      "building tree 16 of 200\n",
      "building tree 17 of 200\n",
      "building tree 18 of 200\n",
      "building tree 19 of 200\n",
      "building tree 20 of 200\n",
      "building tree 21 of 200\n",
      "building tree 22 of 200\n",
      "building tree 23 of 200\n",
      "building tree 24 of 200\n",
      "building tree 25 of 200\n",
      "building tree 26 of 200\n",
      "building tree 27 of 200\n",
      "building tree 28 of 200\n",
      "building tree 29 of 200\n",
      "building tree 30 of 200\n",
      "building tree 31 of 200\n",
      "building tree 32 of 200\n"
     ]
    },
    {
     "name": "stderr",
     "output_type": "stream",
     "text": [
      "[Parallel(n_jobs=-1)]: Done  25 tasks      | elapsed:    2.4s\n"
     ]
    },
    {
     "name": "stdout",
     "output_type": "stream",
     "text": [
      "building tree 33 of 200building tree 34 of 200\n",
      "\n",
      "building tree 35 of 200\n",
      "building tree 36 of 200\n",
      "building tree 37 of 200\n",
      "building tree 38 of 200\n",
      "building tree 39 of 200\n",
      "building tree 40 of 200\n",
      "building tree 41 of 200\n",
      "building tree 42 of 200\n",
      "building tree 43 of 200\n",
      "building tree 44 of 200\n",
      "building tree 45 of 200\n",
      "building tree 46 of 200\n",
      "building tree 47 of 200\n",
      "building tree 48 of 200\n",
      "building tree 49 of 200\n",
      "building tree 50 of 200\n",
      "building tree 51 of 200\n",
      "building tree 52 of 200\n",
      "building tree 53 of 200\n",
      "building tree 54 of 200\n",
      "building tree 55 of 200\n",
      "building tree 56 of 200\n",
      "building tree 57 of 200\n",
      "building tree 58 of 200\n",
      "building tree 59 of 200\n",
      "building tree 60 of 200\n",
      "building tree 61 of 200\n",
      "building tree 62 of 200\n",
      "building tree 63 of 200\n",
      "building tree 64 of 200\n",
      "building tree 65 of 200\n",
      "building tree 66 of 200\n",
      "building tree 67 of 200\n",
      "building tree 68 of 200\n",
      "building tree 69 of 200\n",
      "building tree 70 of 200\n",
      "building tree 71 of 200\n",
      "building tree 72 of 200\n",
      "building tree 73 of 200\n",
      "building tree 74 of 200\n",
      "building tree 75 of 200\n",
      "building tree 76 of 200\n",
      "building tree 77 of 200\n",
      "building tree 78 of 200\n",
      "building tree 79 of 200\n",
      "building tree 80 of 200\n",
      "building tree 81 of 200\n",
      "building tree 82 of 200\n",
      "building tree 83 of 200\n",
      "building tree 84 of 200\n",
      "building tree 85 of 200\n",
      "building tree 86 of 200\n",
      "building tree 87 of 200\n",
      "building tree 88 of 200\n",
      "building tree 89 of 200\n",
      "building tree 90 of 200\n",
      "building tree 91 of 200\n",
      "building tree 92 of 200\n",
      "building tree 93 of 200\n",
      "building tree 94 of 200\n",
      "building tree 95 of 200\n",
      "building tree 96 of 200\n",
      "building tree 97 of 200\n",
      "building tree 98 of 200\n",
      "building tree 99 of 200\n",
      "building tree 100 of 200\n",
      "building tree 101 of 200\n",
      "building tree 102 of 200\n",
      "building tree 103 of 200\n",
      "building tree 104 of 200\n",
      "building tree 105 of 200\n",
      "building tree 106 of 200\n",
      "building tree 107 of 200\n",
      "building tree 108 of 200\n",
      "building tree 109 of 200\n",
      "building tree 110 of 200\n",
      "building tree 111 of 200\n",
      "building tree 112 of 200\n",
      "building tree 113 of 200\n",
      "building tree 114 of 200\n",
      "building tree 115 of 200\n",
      "building tree 116 of 200\n",
      "building tree 117 of 200\n",
      "building tree 118 of 200\n",
      "building tree 119 of 200\n",
      "building tree 120 of 200\n",
      "building tree 121 of 200\n",
      "building tree 122 of 200\n",
      "building tree 123 of 200\n",
      "building tree 124 of 200\n",
      "building tree 125 of 200\n",
      "building tree 126 of 200\n",
      "building tree 127 of 200\n",
      "building tree 128 of 200\n",
      "building tree 129 of 200\n",
      "building tree 130 of 200\n",
      "building tree 131 of 200\n",
      "building tree 132 of 200\n",
      "building tree 133 of 200\n",
      "building tree 134 of 200\n",
      "building tree 135 of 200\n",
      "building tree 136 of 200\n",
      "building tree 137 of 200\n",
      "building tree 138 of 200\n",
      "building tree 139 of 200\n",
      "building tree 140 of 200\n",
      "building tree 141 of 200\n",
      "building tree 142 of 200\n",
      "building tree 143 of 200\n",
      "building tree 144 of 200\n",
      "building tree 145 of 200\n",
      "building tree 146 of 200\n",
      "building tree 147 of 200\n",
      "building tree 148 of 200\n",
      "building tree 149 of 200\n",
      "building tree 150 of 200\n",
      "building tree 151 of 200\n",
      "building tree 152 of 200\n",
      "building tree 153 of 200\n",
      "building tree 154 of 200\n",
      "building tree 155 of 200\n"
     ]
    },
    {
     "name": "stderr",
     "output_type": "stream",
     "text": [
      "[Parallel(n_jobs=-1)]: Done 146 tasks      | elapsed:   13.7s\n"
     ]
    },
    {
     "name": "stdout",
     "output_type": "stream",
     "text": [
      "building tree 156 of 200\n",
      "building tree 157 of 200\n",
      "building tree 158 of 200\n",
      "building tree 159 of 200\n",
      "building tree 160 of 200\n",
      "building tree 161 of 200\n",
      "building tree 162 of 200\n",
      "building tree 163 of 200\n",
      "building tree 164 of 200\n",
      "building tree 165 of 200\n",
      "building tree 166 of 200\n",
      "building tree 167 of 200\n",
      "building tree 168 of 200\n",
      "building tree 169 of 200\n",
      "building tree 170 of 200\n",
      "building tree 171 of 200\n",
      "building tree 172 of 200\n",
      "building tree 173 of 200\n",
      "building tree 174 of 200\n",
      "building tree 175 of 200\n",
      "building tree 176 of 200\n",
      "building tree 177 of 200\n",
      "building tree 178 of 200\n",
      "building tree 179 of 200\n",
      "building tree 180 of 200\n",
      "building tree 181 of 200\n",
      "building tree 182 of 200\n",
      "building tree 183 of 200\n",
      "building tree 184 of 200\n",
      "building tree 185 of 200\n",
      "building tree 186 of 200\n",
      "building tree 187 of 200\n",
      "building tree 188 of 200\n",
      "building tree 189 of 200\n",
      "building tree 190 of 200\n",
      "building tree 191 of 200\n",
      "building tree 192 of 200\n",
      "building tree 193 of 200\n",
      "building tree 194 of 200\n",
      "building tree 195 of 200\n",
      "building tree 196 of 200\n",
      "building tree 197 of 200\n",
      "building tree 198 of 200\n",
      "building tree 199 of 200\n",
      "building tree 200 of 200\n",
      "{'clf__min_samples_split': 2, 'clf__n_estimators': 200}\n"
     ]
    },
    {
     "name": "stderr",
     "output_type": "stream",
     "text": [
      "[Parallel(n_jobs=-1)]: Done 200 out of 200 | elapsed:   19.0s finished\n"
     ]
    }
   ],
   "source": [
    "# Create ML pipeline - Random Forest (Grid Search)\n",
    "parameters = {\n",
    "        'clf__n_estimators': [100, 200],\n",
    "        'clf__min_samples_split': [2, 4]\n",
    "    }\n",
    "\n",
    "ml_pipeline = GridSearchCV(pipeline, param_grid=parameters, cv=4)\n",
    "\n",
    "# Train the model using grid search\n",
    "ml_pipeline.fit(X_train, y_train)\n",
    "\n",
    "# Output best selection of parameters\n",
    "print(ml_pipeline.best_params_)"
   ]
  },
  {
   "cell_type": "markdown",
   "id": "9ca0d254",
   "metadata": {},
   "source": [
    "# Model Evaluation"
   ]
  },
  {
   "cell_type": "code",
   "execution_count": 36,
   "id": "55266f1b",
   "metadata": {},
   "outputs": [
    {
     "name": "stdout",
     "output_type": "stream",
     "text": [
      "Overall accuracy: 87.48 %\n",
      "              precision    recall  f1-score   support\n",
      "\n",
      "           0       0.82      0.82      0.82      3524\n",
      "           1       0.91      0.90      0.90      6643\n",
      "\n",
      "    accuracy                           0.87     10167\n",
      "   macro avg       0.86      0.86      0.86     10167\n",
      "weighted avg       0.88      0.87      0.87     10167\n",
      "\n"
     ]
    },
    {
     "name": "stderr",
     "output_type": "stream",
     "text": [
      "[Parallel(n_jobs=8)]: Using backend ThreadingBackend with 8 concurrent workers.\n",
      "[Parallel(n_jobs=8)]: Done  25 tasks      | elapsed:    0.0s\n",
      "[Parallel(n_jobs=8)]: Done 100 out of 100 | elapsed:    0.0s finished\n"
     ]
    }
   ],
   "source": [
    "# Predict on test data - Random Forest\n",
    "y_pred = pipeline.predict(X_test)\n",
    "\n",
    "# show metrics\n",
    "print(f'Overall accuracy: {np.round(100 * (y_pred == y_test).mean().mean(), 2)} %')\n",
    "print(classification_report(y_test.values, y_pred))"
   ]
  },
  {
   "cell_type": "code",
   "execution_count": 37,
   "id": "17130cca",
   "metadata": {},
   "outputs": [
    {
     "name": "stdout",
     "output_type": "stream",
     "text": [
      "Overall accuracy: 83.64 %\n",
      "              precision    recall  f1-score   support\n",
      "\n",
      "           0       0.80      0.70      0.75      3524\n",
      "           1       0.85      0.91      0.88      6643\n",
      "\n",
      "    accuracy                           0.84     10167\n",
      "   macro avg       0.83      0.80      0.81     10167\n",
      "weighted avg       0.83      0.84      0.83     10167\n",
      "\n"
     ]
    }
   ],
   "source": [
    "# Predict on test data - AdaBoost\n",
    "y_pred2 = pipeline2.predict(X_test)\n",
    "\n",
    "# show metrics\n",
    "print(f'Overall accuracy: {np.round(100 * (y_pred2 == y_test).mean().mean(), 2)} %')\n",
    "print(classification_report(y_test.values, y_pred2))"
   ]
  },
  {
   "cell_type": "code",
   "execution_count": 38,
   "id": "33f33c89",
   "metadata": {},
   "outputs": [
    {
     "name": "stdout",
     "output_type": "stream",
     "text": [
      "Overall accuracy: 83.97 %\n",
      "              precision    recall  f1-score   support\n",
      "\n",
      "           0       0.80      0.72      0.76      3524\n",
      "           1       0.86      0.90      0.88      6643\n",
      "\n",
      "    accuracy                           0.84     10167\n",
      "   macro avg       0.83      0.81      0.82     10167\n",
      "weighted avg       0.84      0.84      0.84     10167\n",
      "\n"
     ]
    }
   ],
   "source": [
    "# Predict on test data - Gradient Boosting\n",
    "y_pred3 = pipeline3.predict(X_test)\n",
    "\n",
    "# show metrics\n",
    "print(f'Overall accuracy: {np.round(100 * (y_pred3 == y_test).mean().mean(), 2)} %')\n",
    "print(classification_report(y_test.values, y_pred3))"
   ]
  },
  {
   "cell_type": "code",
   "execution_count": 39,
   "id": "ac746310",
   "metadata": {},
   "outputs": [
    {
     "name": "stdout",
     "output_type": "stream",
     "text": [
      "Overall accuracy: 86.41 %\n",
      "              precision    recall  f1-score   support\n",
      "\n",
      "           0       0.81      0.79      0.80      3524\n",
      "           1       0.89      0.90      0.90      6643\n",
      "\n",
      "    accuracy                           0.86     10167\n",
      "   macro avg       0.85      0.85      0.85     10167\n",
      "weighted avg       0.86      0.86      0.86     10167\n",
      "\n"
     ]
    }
   ],
   "source": [
    "# Predict on test data - Neural Network\n",
    "y_pred4 = pipeline4.predict(X_test)\n",
    "\n",
    "# show metrics\n",
    "print(f'Overall accuracy: {np.round(100 * (y_pred4 == y_test).mean().mean(), 2)} %')\n",
    "print(classification_report(y_test.values, y_pred4))"
   ]
  },
  {
   "cell_type": "code",
   "execution_count": 40,
   "id": "283d5e98",
   "metadata": {},
   "outputs": [
    {
     "name": "stdout",
     "output_type": "stream",
     "text": [
      "Overall accuracy: 87.25 %\n",
      "              precision    recall  f1-score   support\n",
      "\n",
      "           0       0.82      0.81      0.81      3524\n",
      "           1       0.90      0.91      0.90      6643\n",
      "\n",
      "    accuracy                           0.87     10167\n",
      "   macro avg       0.86      0.86      0.86     10167\n",
      "weighted avg       0.87      0.87      0.87     10167\n",
      "\n"
     ]
    }
   ],
   "source": [
    "# Predict on test data - Ensemble Stacking\n",
    "y_pred5 = pipeline5.predict(X_test)\n",
    "\n",
    "# show metrics\n",
    "print(f'Overall accuracy: {np.round(100 * (y_pred5 == y_test).mean().mean(), 2)} %')\n",
    "print(classification_report(y_test.values, y_pred5))"
   ]
  },
  {
   "cell_type": "code",
   "execution_count": 41,
   "id": "7052a5d9",
   "metadata": {},
   "outputs": [
    {
     "name": "stderr",
     "output_type": "stream",
     "text": [
      "[Parallel(n_jobs=8)]: Using backend ThreadingBackend with 8 concurrent workers.\n",
      "[Parallel(n_jobs=8)]: Done  25 tasks      | elapsed:    0.0s\n"
     ]
    },
    {
     "name": "stdout",
     "output_type": "stream",
     "text": [
      "Overall accuracy: 87.48 %\n",
      "              precision    recall  f1-score   support\n",
      "\n",
      "           0       0.82      0.82      0.82      3524\n",
      "           1       0.91      0.90      0.90      6643\n",
      "\n",
      "    accuracy                           0.87     10167\n",
      "   macro avg       0.86      0.86      0.86     10167\n",
      "weighted avg       0.88      0.87      0.87     10167\n",
      "\n"
     ]
    },
    {
     "name": "stderr",
     "output_type": "stream",
     "text": [
      "[Parallel(n_jobs=8)]: Done 146 tasks      | elapsed:    0.1s\n",
      "[Parallel(n_jobs=8)]: Done 200 out of 200 | elapsed:    0.2s finished\n"
     ]
    }
   ],
   "source": [
    "# Predict on test data - Random Forest (Grid Search)\n",
    "y_pred_final = ml_pipeline.predict(X_test)\n",
    "\n",
    "# show metrics\n",
    "print(f'Overall accuracy: {np.round(100 * (y_pred_final == y_test).mean().mean(), 2)} %')\n",
    "print(classification_report(y_test.values, y_pred_final))"
   ]
  },
  {
   "cell_type": "markdown",
   "id": "9697a251",
   "metadata": {},
   "source": [
    "In summary:\n",
    "- AdaBoost & Gradient Boosting takes a short time, but poor accuracy\n",
    "- Ensemble Stacking & Neural Network achieves good accuracy levels, but take a long time\n",
    "- Random Forest not only achieves good accuracy levels on par with more complex model, it achieved in a short time as AdaBoost & Gradient Boosting. Therefore, it is chosen along with GridSearch for further model improvements."
   ]
  },
  {
   "cell_type": "markdown",
   "id": "2479328e",
   "metadata": {},
   "source": [
    "# Output Model"
   ]
  },
  {
   "cell_type": "code",
   "execution_count": 42,
   "id": "1236c872",
   "metadata": {},
   "outputs": [],
   "source": [
    "pickle.dump(ml_pipeline, open(cd + '\\\\sentiment_classifier.pkl', 'wb'))"
   ]
  }
 ],
 "metadata": {
  "kernelspec": {
   "display_name": "Python 3",
   "language": "python",
   "name": "python3"
  },
  "language_info": {
   "codemirror_mode": {
    "name": "ipython",
    "version": 3
   },
   "file_extension": ".py",
   "mimetype": "text/x-python",
   "name": "python",
   "nbconvert_exporter": "python",
   "pygments_lexer": "ipython3",
   "version": "3.9.4"
  }
 },
 "nbformat": 4,
 "nbformat_minor": 5
}
